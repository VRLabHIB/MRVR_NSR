{
 "cells": [
  {
   "cell_type": "code",
   "execution_count": 1,
   "id": "47a2aa22-52a7-4255-821e-00a7749dc0ad",
   "metadata": {
    "tags": []
   },
   "outputs": [],
   "source": [
    "import numpy as np\n",
    "import pandas as pd\n",
    "import os\n",
    "project_path = os.path.abspath(os.getcwd())"
   ]
  },
  {
   "cell_type": "code",
   "execution_count": 6,
   "id": "578ee371-cd25-43d0-8239-51ce6ed3695f",
   "metadata": {
    "tags": []
   },
   "outputs": [
    {
     "data": {
      "text/html": [
       "<div>\n",
       "<style scoped>\n",
       "    .dataframe tbody tr th:only-of-type {\n",
       "        vertical-align: middle;\n",
       "    }\n",
       "\n",
       "    .dataframe tbody tr th {\n",
       "        vertical-align: top;\n",
       "    }\n",
       "\n",
       "    .dataframe thead th {\n",
       "        text-align: right;\n",
       "    }\n",
       "</style>\n",
       "<table border=\"1\" class=\"dataframe\">\n",
       "  <thead>\n",
       "    <tr style=\"text-align: right;\">\n",
       "      <th></th>\n",
       "      <th>stimulus</th>\n",
       "      <th>side</th>\n",
       "      <th>figure</th>\n",
       "      <th>cube</th>\n",
       "      <th>x</th>\n",
       "      <th>y</th>\n",
       "      <th>mid_x</th>\n",
       "      <th>mid_y</th>\n",
       "      <th>max_dist</th>\n",
       "      <th>radius</th>\n",
       "    </tr>\n",
       "  </thead>\n",
       "  <tbody>\n",
       "    <tr>\n",
       "      <th>0</th>\n",
       "      <td>1</td>\n",
       "      <td>left</td>\n",
       "      <td>M01</td>\n",
       "      <td>6</td>\n",
       "      <td>-18.230</td>\n",
       "      <td>106.320</td>\n",
       "      <td>-18.1045</td>\n",
       "      <td>109.9848</td>\n",
       "      <td>12.225162</td>\n",
       "      <td>23.3961</td>\n",
       "    </tr>\n",
       "    <tr>\n",
       "      <th>1</th>\n",
       "      <td>1</td>\n",
       "      <td>left</td>\n",
       "      <td>M01</td>\n",
       "      <td>2</td>\n",
       "      <td>-13.385</td>\n",
       "      <td>118.437</td>\n",
       "      <td>-18.1045</td>\n",
       "      <td>109.9848</td>\n",
       "      <td>12.225162</td>\n",
       "      <td>23.3961</td>\n",
       "    </tr>\n",
       "  </tbody>\n",
       "</table>\n",
       "</div>"
      ],
      "text/plain": [
       "   stimulus  side figure  cube       x        y    mid_x     mid_y   max_dist  \\\n",
       "0         1  left    M01     6 -18.230  106.320 -18.1045  109.9848  12.225162   \n",
       "1         1  left    M01     2 -13.385  118.437 -18.1045  109.9848  12.225162   \n",
       "\n",
       "    radius  \n",
       "0  23.3961  \n",
       "1  23.3961  "
      ]
     },
     "execution_count": 6,
     "metadata": {},
     "output_type": "execute_result"
    }
   ],
   "source": [
    "meta_path = project_path.rsplit('\\\\',1)[0] + \"\\\\meta\\\\\"\n",
    "df = pd.read_csv(meta_path + '3Dcube_locations.csv')\n",
    "df.head(2)"
   ]
  },
  {
   "cell_type": "code",
   "execution_count": 10,
   "id": "5308f60e-c889-4504-8bb8-a0017e927c15",
   "metadata": {
    "tags": []
   },
   "outputs": [
    {
     "data": {
      "text/plain": [
       "x      4.835598\n",
       "y    108.946698\n",
       "dtype: float64"
      ]
     },
     "execution_count": 10,
     "metadata": {},
     "output_type": "execute_result"
    }
   ],
   "source": [
    "df[['x','y']].mean(axis=0)"
   ]
  },
  {
   "cell_type": "code",
   "execution_count": 139,
   "id": "a7b65426-ad98-4302-a309-9f41a5e2a8f0",
   "metadata": {
    "tags": []
   },
   "outputs": [],
   "source": [
    "data_path = project_path.rsplit('\\\\',1)[0] + \"\\\\data\\\\6_feature_dataset\\\\\"\n",
    "\n",
    "dfo = pd.read_csv(data_path + '2023-06-17_eye_features.csv')\n",
    "dfn = pd.read_csv(data_path + '2024-03-21_eye_features.csv')\n",
    "dfn = dfn.drop(columns=['Mean fixation duration during head movement'])\n",
    "\n",
    "df = dfo.merge(dfn, on=['ID', 'dimension', 'condition', 'stimulus'], how='left')\n",
    "df = df[~df['stimulus'].isin([21, 24])]\n",
    "df.to_csv(data_path + '2024-03-21_final_feature_dataset.csv', index=False)"
   ]
  },
  {
   "cell_type": "code",
   "execution_count": 157,
   "id": "c2e10662-d326-4aa7-9eaa-d702e799a9bb",
   "metadata": {
    "tags": []
   },
   "outputs": [
    {
     "name": "stdout",
     "output_type": "stream",
     "text": [
      "\\begin{tabular}{lllllllllllll}\n",
      "\\toprule\n",
      "{} &    1  &    2  &    3  &    4  &    5  &    6  &    7  &    8  &    9  &    10 &   11 &   12 \\\\\n",
      "\\midrule\n",
      "Mean fixation duration                  &     - &     - &     - &     - &     - &     - &     - &     - &     - &     - &    - &    - \\\\\n",
      "Mean fixation rate                      & -0.23 &     - &     - &     - &     - &     - &     - &     - &     - &     - &    - &    - \\\\\n",
      "Mean regressive fixation duration       &  0.25 &  0.04 &     - &     - &     - &     - &     - &     - &     - &     - &    - &    - \\\\\n",
      "Equal fixation duration between figures & -0.08 &  0.26 &  0.29 &     - &     - &     - &     - &     - &     - &     - &    - &    - \\\\\n",
      "Equal fixation duration within figure   & -0.04 &  0.07 & -0.14 &  0.14 &     - &     - &     - &     - &     - &     - &    - &    - \\\\\n",
      "Mean saccade velocity                   & -0.06 &  0.10 & -0.03 &  0.04 &  0.03 &     - &     - &     - &     - &     - &    - &    - \\\\\n",
      "Mean saccade rate                       & -0.41 & -0.04 & -0.23 & -0.10 & -0.01 & -0.05 &     - &     - &     - &     - &    - &    - \\\\\n",
      "Mean pupil diameter                     & -0.00 &  0.02 &  0.05 &  0.03 &  0.01 &  0.03 & -0.04 &     - &     - &     - &    - &    - \\\\\n",
      "Peak pupil diameter                     &  0.09 & -0.07 &  0.02 & -0.02 & -0.04 & -0.04 & -0.07 & -0.01 &     - &     - &    - &    - \\\\\n",
      "Mean head rotation                      & -0.08 & -0.18 & -0.03 & -0.04 &  0.05 & -0.09 & -0.01 &  0.04 & -0.03 &     - &    - &    - \\\\\n",
      "Mean head movement                      & -0.05 & -0.15 & -0.02 & -0.06 &  0.05 & -0.10 & -0.06 &  0.01 & -0.02 &  0.91 &    - &    - \\\\\n",
      "Strategy ratio                          &  0.07 &  0.07 &  0.24 &  0.19 &  0.04 & -0.10 & -0.35 &  0.09 & -0.01 &  0.07 & 0.09 &    - \\\\\n",
      "Mean distance to figure                 &  0.02 &  0.09 &  0.01 &  0.05 & -0.00 & -0.23 & -0.02 & -0.12 & -0.10 & -0.06 & 0.00 & 0.02 \\\\\n",
      "\\bottomrule\n",
      "\\end{tabular}\n",
      "\n"
     ]
    },
    {
     "name": "stderr",
     "output_type": "stream",
     "text": [
      "C:\\Users\\Stark\\AppData\\Local\\Temp\\ipykernel_18684\\1743117735.py:21: FutureWarning: In future versions `DataFrame.to_latex` is expected to utilise the base implementation of `Styler.to_latex` for formatting and rendering. The arguments signature may therefore change. It is recommended instead to use `DataFrame.style.to_latex` which also contains additional functionality.\n",
      "  print(dfr.to_latex(float_format=\"{:0.2f}\".format))\n"
     ]
    }
   ],
   "source": [
    "df2 = df[df['dimension']==2]\n",
    "df3 = df[df['dimension']==3]\n",
    "\n",
    "vars2 = ['Mean fixation duration', 'Relative Number of Fixations', 'Mean regressive fixation duration',\n",
    "   'Equal fixation duration between figures',\n",
    "   'Equal fixation duration within figure',\n",
    "   'Mean saccade velocity','Relative Number of Saccades', 'Mean pupil diameter',\n",
    "   'Pupil diameter amplitude', 'Mean head rotation', 'Mean head movement',\n",
    "   'Strategy ratio', 'Mean distance to figure']\n",
    "dfs = df2[vars2]\n",
    "dfs= dfs.rename(columns={'Pupil diameter amplitude':'Peak pupil diameter',\n",
    "                         'Relative Number of Fixations': 'Mean fixation rate',\n",
    "                         'Relative Number of Saccades':'Mean saccade rate'})\n",
    "\n",
    "dfr = dfs.corr().round(3)\n",
    "dfr = dfr.where(np.tril(np.ones(dfr.shape), k=-1).astype(bool))\n",
    "dfr = dfr.round(3)\n",
    "dfr = dfr.replace(np.nan, '-')\n",
    "dfr = dfr.drop(columns='Mean distance to figure')\n",
    "dfr.columns = np.arange(1, 13)\n",
    "print(dfr.to_latex(float_format=\"{:0.2f}\".format))"
   ]
  },
  {
   "cell_type": "code",
   "execution_count": 100,
   "id": "e0769437-8095-42ca-9552-0791b0249409",
   "metadata": {
    "tags": []
   },
   "outputs": [
    {
     "name": "stderr",
     "output_type": "stream",
     "text": [
      "C:\\Users\\Stark\\AppData\\Local\\Temp\\ipykernel_18684\\1674564250.py:1: FutureWarning: The default value of numeric_only in DataFrame.corr is deprecated. In a future version, it will default to False. Select only valid columns or specify the value of numeric_only to silence this warning.\n",
      "  dfc = df.iloc[:, 4:].corr().round(3)\n"
     ]
    }
   ],
   "source": [
    "dfc = df.iloc[:, 4:].corr().round(3)\n",
    "dfc.index = dfc.columns\n",
    "dfc.to_csv(data_path + '2024-03-21_correlations.csv', index=True)"
   ]
  },
  {
   "cell_type": "code",
   "execution_count": 101,
   "id": "010f42d8-02e1-4afd-bb23-26749c7b352d",
   "metadata": {
    "tags": []
   },
   "outputs": [],
   "source": [
    "dfa = df.groupby(['ID','dimension'])[['ID', 'dimension', 'Correct', 'RT',\n",
    "       'Mean fixation duration','Relative Number of Fixations', 'Mean regressive fixation duration',\n",
    "       'Equal fixation duration between figures',\n",
    "       'Equal fixation duration within figure',\n",
    "       'Mean saccade velocity', 'Relative Number of Saccades','Mean pupil diameter',\n",
    "       'Pupil diameter amplitude', 'Mean head rotation', 'Mean head movement',\n",
    "       'Strategy ratio', 'Mean distance to figure']].mean()\n",
    "\n",
    "dfa['dimension'] = dfa['dimension'].astype(int)\n",
    "dfa = dfa.rename(columns={'Relative Number of Fixations':'Mean fixation rate', 'Relative Number of Saccades':'Mean saccade rate'})\n",
    "dfa.to_csv(data_path + '2024-03-21_final_feature_dataset_agg.csv', index=False)"
   ]
  },
  {
   "cell_type": "code",
   "execution_count": 103,
   "id": "3535b6e8-4205-4d20-a76a-8e6aa9be04a7",
   "metadata": {
    "tags": []
   },
   "outputs": [
    {
     "data": {
      "text/plain": [
       "Index(['ID', 'dimension', 'Correct', 'RT', 'Mean fixation duration',\n",
       "       'Mean fixation rate', 'Mean regressive fixation duration',\n",
       "       'Equal fixation duration between figures',\n",
       "       'Equal fixation duration within figure', 'Mean saccade velocity',\n",
       "       'Mean saccade rate', 'Mean pupil diameter', 'Pupil diameter amplitude',\n",
       "       'Mean head rotation', 'Mean head movement', 'Strategy ratio',\n",
       "       'Mean distance to figure'],\n",
       "      dtype='object')"
      ]
     },
     "execution_count": 103,
     "metadata": {},
     "output_type": "execute_result"
    }
   ],
   "source": [
    "dfa.columns"
   ]
  },
  {
   "cell_type": "markdown",
   "id": "82834953-86f7-4dd2-8102-39492c2d4653",
   "metadata": {},
   "source": [
    "## After R processing"
   ]
  },
  {
   "cell_type": "code",
   "execution_count": 104,
   "id": "5a8a2fb2-72be-4632-b93f-14e64b4a92b2",
   "metadata": {
    "tags": []
   },
   "outputs": [
    {
     "data": {
      "text/plain": [
       "Index(['Unnamed: 0', 'var1.stud.', 'var2.stud.', 'test.stud.', 'stat.stud.',\n",
       "       'df.stud.', 'p.stud.', 'md.stud.', 'sed.stud.', 'cil.stud.',\n",
       "       'ciu.stud.', 'esType.stud.', 'es.stud.', 'var1.wilc.', 'var2.wilc.',\n",
       "       'test.wilc.', 'stat.wilc.', 'p.wilc.', 'md.wilc.', 'sed.wilc.',\n",
       "       'cil.wilc.', 'ciu.wilc.', 'esType.wilc.', 'es.wilc.'],\n",
       "      dtype='object')"
      ]
     },
     "execution_count": 104,
     "metadata": {},
     "output_type": "execute_result"
    }
   ],
   "source": [
    "data_path = project_path.rsplit('\\\\',1)[0] + \"\\\\data\\\\6_feature_dataset\\\\temp\\\\\"\n",
    "\n",
    "dfs = pd.read_csv(data_path +'stat2.csv')\n",
    "dfs = dfs.round(3)\n",
    "dfs.columns"
   ]
  },
  {
   "cell_type": "code",
   "execution_count": 132,
   "id": "f82b0583-62f2-4ff9-953f-4ced28dc1fbe",
   "metadata": {
    "tags": []
   },
   "outputs": [
    {
     "name": "stderr",
     "output_type": "stream",
     "text": [
      "C:\\Users\\Stark\\AppData\\Local\\Temp\\ipykernel_18684\\1299867790.py:5: SettingWithCopyWarning: \n",
      "A value is trying to be set on a copy of a slice from a DataFrame\n",
      "\n",
      "See the caveats in the documentation: https://pandas.pydata.org/pandas-docs/stable/user_guide/indexing.html#returning-a-view-versus-a-copy\n",
      "  table['P'].iloc[2:] = adjW[1].round(3)\n",
      "C:\\Users\\Stark\\AppData\\Local\\Temp\\ipykernel_18684\\1299867790.py:11: FutureWarning: In a future version of pandas all arguments of StringMethods.rsplit except for the argument 'pat' will be keyword-only.\n",
      "  table.insert(0,'Feature','$' + dfs['var1.wilc.'].str.rsplit('.', 1, expand=True)[0] + '$')\n",
      "C:\\Users\\Stark\\AppData\\Local\\Temp\\ipykernel_18684\\1299867790.py:12: FutureWarning: The default value of regex will change from True to False in a future version. In addition, single character regular expressions will *not* be treated as literal strings when regex=True.\n",
      "  table['Feature'] = table['Feature'].str.replace('.',' ')\n",
      "C:\\Users\\Stark\\AppData\\Local\\Temp\\ipykernel_18684\\1299867790.py:13: FutureWarning: In future versions `DataFrame.to_latex` is expected to utilise the base implementation of `Styler.to_latex` for formatting and rendering. The arguments signature may therefore change. It is recommended instead to use `DataFrame.style.to_latex` which also contains additional functionality.\n",
      "  table.to_latex(buf=data_path + 'wtest.txt',encoding='utf-8', escape=False)\n"
     ]
    }
   ],
   "source": [
    "table = dfs[['stat.wilc.', 'p.wilc.']]\n",
    "table = table.rename(columns={'stat.wilc.':'T','p.wilc.':'P'}) \n",
    "pvalsW = table['P'].iloc[2:].to_list()\n",
    "adjW = multitest.multipletests(pvalsW, alpha=0.05, method='bonferroni', is_sorted=False, returnsorted=False)\n",
    "table['P'].iloc[2:] = adjW[1].round(3)\n",
    "table['T'] = '$' + table['T'].astype(str) + '$'\n",
    "table['P'] = '$' + table['P'].astype(str) + '$'\n",
    "table['M diff'] ='$' + dfs['md.wilc.'].astype(str) + '\\pm' + dfs['sed.wilc.'].astype(str) + '$'\n",
    "table['95% CI'] = '$' +'[' + dfs['cil.wilc.'].astype(str) + ',' + dfs['ciu.wilc.'].astype(str) + ']' + '$'\n",
    "table['Effect size'] ='$' + dfs['es.wilc.'].astype(str) + '$'\n",
    "table.insert(0,'Feature','$' + dfs['var1.wilc.'].str.rsplit('.', 1, expand=True)[0] + '$')\n",
    "table['Feature'] = table['Feature'].str.replace('.',' ')\n",
    "table.to_latex(buf=data_path + 'wtest.txt',encoding='utf-8', escape=False)"
   ]
  },
  {
   "cell_type": "code",
   "execution_count": 134,
   "id": "ca850d7d-aa03-414d-a2bb-657e63581d29",
   "metadata": {
    "tags": []
   },
   "outputs": [
    {
     "name": "stderr",
     "output_type": "stream",
     "text": [
      "C:\\Users\\Stark\\AppData\\Local\\Temp\\ipykernel_18684\\386623709.py:12: FutureWarning: In a future version of pandas all arguments of StringMethods.rsplit except for the argument 'pat' will be keyword-only.\n",
      "  table.insert(0,'Feature','$' + dfs['var1.stud.'].str.rsplit('.', 1, expand=True)[0] + '$')\n",
      "C:\\Users\\Stark\\AppData\\Local\\Temp\\ipykernel_18684\\386623709.py:13: FutureWarning: The default value of regex will change from True to False in a future version. In addition, single character regular expressions will *not* be treated as literal strings when regex=True.\n",
      "  table['Feature'] = table['Feature'].str.replace('.',' ')\n",
      "C:\\Users\\Stark\\AppData\\Local\\Temp\\ipykernel_18684\\386623709.py:14: FutureWarning: In future versions `DataFrame.to_latex` is expected to utilise the base implementation of `Styler.to_latex` for formatting and rendering. The arguments signature may therefore change. It is recommended instead to use `DataFrame.style.to_latex` which also contains additional functionality.\n",
      "  table.to_latex(buf=data_path + 'ttest.txt',encoding='utf-8', escape=False)\n"
     ]
    }
   ],
   "source": [
    "from statsmodels.stats import multitest\n",
    "table = dfs[['stat.stud.', 'p.stud.']]\n",
    "table = table.rename(columns={'stat.stud.':'T','p.stud.':'P'}) \n",
    "pvalsT = table['P'].iloc[2:].to_list()\n",
    "adjT = multitest.multipletests(pvalsT, alpha=0.05, method='bonferroni', is_sorted=False, returnsorted=False)\n",
    "table['P'].iloc[2:] = adjT[1].round(3)\n",
    "table['T'] = '$' + table['T'].astype(str) + '$'\n",
    "table['P'] = '$' + table['P'].astype(str) + '$'\n",
    "table['M diff'] ='$' + dfs['md.stud.'].astype(str) + '\\pm' + dfs['sed.stud.'].astype(str) + '$'\n",
    "table['95% CI'] = '$' +'[' + dfs['cil.stud.'].astype(str) + ',' + dfs['ciu.stud.'].astype(str) + ']' + '$'\n",
    "table['Effect size'] ='$' + dfs['es.stud.'].astype(str) + '$'\n",
    "table.insert(0,'Feature','$' + dfs['var1.stud.'].str.rsplit('.', 1, expand=True)[0] + '$')\n",
    "table['Feature'] = table['Feature'].str.replace('.',' ')\n",
    "table.to_latex(buf=data_path + 'ttest.txt',encoding='utf-8', escape=False)"
   ]
  },
  {
   "cell_type": "code",
   "execution_count": 136,
   "id": "275ea916-dbcf-44ce-817b-df831c9b736a",
   "metadata": {
    "tags": []
   },
   "outputs": [],
   "source": [
    "#table"
   ]
  },
  {
   "cell_type": "code",
   "execution_count": 115,
   "id": "00bb177b-9d2f-4bb2-b8b1-b7087259ac76",
   "metadata": {
    "tags": []
   },
   "outputs": [
    {
     "name": "stderr",
     "output_type": "stream",
     "text": [
      "C:\\Users\\Stark\\AppData\\Local\\Temp\\ipykernel_18684\\3987433042.py:5: FutureWarning: In a future version of pandas all arguments of StringMethods.rsplit except for the argument 'pat' will be keyword-only.\n",
      "  dfs1['Variable'].str.rsplit(' ', 1, expand=True)[0].unique()\n"
     ]
    },
    {
     "data": {
      "text/plain": [
       "array(['Correct', 'RT', 'Mean fixation duration', 'Mean fixation rate',\n",
       "       'Mean regressive fixation duration',\n",
       "       'Equal fixation duration between figure',\n",
       "       'Equal fixation duration within figures', 'Strategy ratio',\n",
       "       'Mean saccade velocity', 'Mean saccades rate',\n",
       "       'Mean pupil diameter', 'Peak pupil diameter', 'Mean head rotation',\n",
       "       'Mean head movement', 'Mean distance to figure'], dtype=object)"
      ]
     },
     "execution_count": 115,
     "metadata": {},
     "output_type": "execute_result"
    }
   ],
   "source": [
    "data_path = project_path.rsplit('\\\\',1)[0] + \"\\\\data\\\\6_feature_dataset\\\\temp\\\\\"\n",
    "\n",
    "dfs1 = pd.read_csv(data_path +'stat1.csv')\n",
    "dfs1 = dfs1.round(3)\n",
    "dfs1['Variable'].str.rsplit(' ', 1, expand=True)[0].unique()"
   ]
  },
  {
   "cell_type": "code",
   "execution_count": 127,
   "id": "cf0cf4c4-9603-431b-b1f4-8f90d9624841",
   "metadata": {
    "tags": []
   },
   "outputs": [
    {
     "name": "stderr",
     "output_type": "stream",
     "text": [
      "C:\\Users\\Stark\\AppData\\Local\\Temp\\ipykernel_18684\\482749667.py:2: FutureWarning: In a future version of pandas all arguments of StringMethods.rsplit except for the argument 'pat' will be keyword-only.\n",
      "  for col in dfs1['Variable'].str.rsplit(' ', 1, expand=True)[0].unique():\n"
     ]
    }
   ],
   "source": [
    "dfss = pd.DataFrame({'Feature':[], '2D (M \\pm SD)':[], '3D (M \\pm SD)':[]})\n",
    "for col in dfs1['Variable'].str.rsplit(' ', 1, expand=True)[0].unique():\n",
    "    \n",
    "    col2 = col + ' 2D'\n",
    "    col3 = col + ' 3D'\n",
    "    \n",
    "    s2 = '$' + str(dfs1[dfs1['Variable']==col2]['mean'].values[0]) + '\\pm' + str(dfs1[dfs1['Variable']==col2]['sd'].values[0]) + '$'\n",
    "    s3 = '$' + str(dfs1[dfs1['Variable']==col3]['mean'].values[0]) + '\\pm' + str(dfs1[dfs1['Variable']==col3]['sd'].values[0]) + '$'\n",
    "    series = pd.DataFrame({'Feature': [col], '2D (M \\pm SD)':[s2], '3D (M \\pm SD)': [s3]})\n",
    "    dfss = pd.concat([dfss,series], axis=0)"
   ]
  },
  {
   "cell_type": "code",
   "execution_count": 129,
   "id": "a98dc51b-949e-4263-9341-d4b714c8538d",
   "metadata": {
    "tags": []
   },
   "outputs": [
    {
     "name": "stderr",
     "output_type": "stream",
     "text": [
      "C:\\Users\\Stark\\AppData\\Local\\Temp\\ipykernel_18684\\477660882.py:2: FutureWarning: In future versions `DataFrame.to_latex` is expected to utilise the base implementation of `Styler.to_latex` for formatting and rendering. The arguments signature may therefore change. It is recommended instead to use `DataFrame.style.to_latex` which also contains additional functionality.\n",
      "  dfss.to_latex(buf=data_path + 'means.txt',encoding='utf-8', escape=False)\n"
     ]
    }
   ],
   "source": [
    "data_path = project_path.rsplit('\\\\',1)[0] + \"\\\\data\\\\6_feature_dataset\\\\temp\\\\\"\n",
    "dfss.to_latex(buf=data_path + 'means.txt',encoding='utf-8', escape=False)"
   ]
  },
  {
   "cell_type": "markdown",
   "id": "0e700f27-e39c-447e-b9ce-75d81293663f",
   "metadata": {},
   "source": [
    "## Create new table for stim type"
   ]
  },
  {
   "cell_type": "code",
   "execution_count": 174,
   "id": "3273fa2e-7076-4144-bd68-9f62d0d723f8",
   "metadata": {
    "tags": []
   },
   "outputs": [
    {
     "name": "stderr",
     "output_type": "stream",
     "text": [
      "C:\\Users\\Stark\\AppData\\Local\\Temp\\ipykernel_18684\\3405279963.py:18: FutureWarning: The default value of numeric_only in DataFrameGroupBy.mean is deprecated. In a future version, numeric_only will default to False. Either specify numeric_only or select only columns which should be valid for the function.\n",
      "  'Strategy ratio', 'Mean distance to figure']].mean().round(3)\n"
     ]
    }
   ],
   "source": [
    "data_path = project_path.rsplit('\\\\',1)[0] + \"\\\\data\\\\6_feature_dataset\\\\\"\n",
    "dff = pd.read_csv(data_path + '2024-03-21_final_feature_dataset.csv')\n",
    "dff = dff[~dff['stimulus'].isin([21, 24])]\n",
    "dff = dff.drop(columns=['condition', 'stimulus', 'Response', 'Equal?', 'AngularDisp', 'Number of Fixations', 'Number of Saccades', 'Mean angle around figure',\n",
    "                       'Mean saccade duration', 'ID'])\n",
    "dff['dimension'] = dff['dimension'].astype(str) + ['D']\n",
    "dff['DiffType'] = dff['DiffType'].replace({'e':'Equal','m':'Mirrored', 's':'Structural'})\n",
    "\n",
    "\n",
    "\n",
    "\n",
    "s = dff.groupby(['dimension','DiffType'])[[ 'dimension', 'Correct', 'RT',\n",
    "       'Mean fixation duration','Relative Number of Fixations', 'Mean regressive fixation duration',\n",
    "       'Equal fixation duration between figures',\n",
    "       'Equal fixation duration within figure',\n",
    "       'Mean saccade velocity', 'Relative Number of Saccades','Mean pupil diameter',\n",
    "       'Pupil diameter amplitude', 'Mean head rotation', 'Mean head movement',\n",
    "       'Strategy ratio', 'Mean distance to figure']].mean().round(3)\n",
    "\n",
    "s = s.rename(columns={'Relative Number of Fixations':'Mean fixation rate', 'Relative Number of Saccades':'Mean saccade rate'})"
   ]
  },
  {
   "cell_type": "code",
   "execution_count": 178,
   "id": "886cef73-d0ea-4a5e-99a1-2d413f2d833d",
   "metadata": {
    "tags": []
   },
   "outputs": [],
   "source": [
    "s = s.transpose()"
   ]
  },
  {
   "cell_type": "code",
   "execution_count": 179,
   "id": "c62afb6c-7c89-49f4-842e-54b9973c2a43",
   "metadata": {
    "tags": []
   },
   "outputs": [
    {
     "data": {
      "text/html": [
       "<div>\n",
       "<style scoped>\n",
       "    .dataframe tbody tr th:only-of-type {\n",
       "        vertical-align: middle;\n",
       "    }\n",
       "\n",
       "    .dataframe tbody tr th {\n",
       "        vertical-align: top;\n",
       "    }\n",
       "\n",
       "    .dataframe thead tr th {\n",
       "        text-align: left;\n",
       "    }\n",
       "</style>\n",
       "<table border=\"1\" class=\"dataframe\">\n",
       "  <thead>\n",
       "    <tr>\n",
       "      <th>dimension</th>\n",
       "      <th colspan=\"3\" halign=\"left\">2D</th>\n",
       "      <th colspan=\"3\" halign=\"left\">3D</th>\n",
       "    </tr>\n",
       "    <tr>\n",
       "      <th>DiffType</th>\n",
       "      <th>Equal</th>\n",
       "      <th>Mirrored</th>\n",
       "      <th>Structural</th>\n",
       "      <th>Equal</th>\n",
       "      <th>Mirrored</th>\n",
       "      <th>Structural</th>\n",
       "    </tr>\n",
       "  </thead>\n",
       "  <tbody>\n",
       "    <tr>\n",
       "      <th>Correct</th>\n",
       "      <td>0.835</td>\n",
       "      <td>0.837</td>\n",
       "      <td>0.815</td>\n",
       "      <td>0.929</td>\n",
       "      <td>0.829</td>\n",
       "      <td>0.844</td>\n",
       "    </tr>\n",
       "    <tr>\n",
       "      <th>RT</th>\n",
       "      <td>6.102</td>\n",
       "      <td>7.424</td>\n",
       "      <td>7.970</td>\n",
       "      <td>5.179</td>\n",
       "      <td>6.427</td>\n",
       "      <td>7.955</td>\n",
       "    </tr>\n",
       "    <tr>\n",
       "      <th>Mean fixation duration</th>\n",
       "      <td>0.215</td>\n",
       "      <td>0.225</td>\n",
       "      <td>0.218</td>\n",
       "      <td>0.210</td>\n",
       "      <td>0.220</td>\n",
       "      <td>0.225</td>\n",
       "    </tr>\n",
       "    <tr>\n",
       "      <th>Mean fixation rate</th>\n",
       "      <td>2.252</td>\n",
       "      <td>2.205</td>\n",
       "      <td>2.263</td>\n",
       "      <td>2.297</td>\n",
       "      <td>2.298</td>\n",
       "      <td>2.317</td>\n",
       "    </tr>\n",
       "    <tr>\n",
       "      <th>Mean regressive fixation duration</th>\n",
       "      <td>0.133</td>\n",
       "      <td>0.153</td>\n",
       "      <td>0.145</td>\n",
       "      <td>0.165</td>\n",
       "      <td>0.186</td>\n",
       "      <td>0.194</td>\n",
       "    </tr>\n",
       "    <tr>\n",
       "      <th>Equal fixation duration between figures</th>\n",
       "      <td>0.687</td>\n",
       "      <td>0.694</td>\n",
       "      <td>0.718</td>\n",
       "      <td>0.704</td>\n",
       "      <td>0.715</td>\n",
       "      <td>0.783</td>\n",
       "    </tr>\n",
       "    <tr>\n",
       "      <th>Equal fixation duration within figure</th>\n",
       "      <td>0.162</td>\n",
       "      <td>0.222</td>\n",
       "      <td>0.196</td>\n",
       "      <td>0.457</td>\n",
       "      <td>0.424</td>\n",
       "      <td>0.473</td>\n",
       "    </tr>\n",
       "    <tr>\n",
       "      <th>Mean saccade velocity</th>\n",
       "      <td>240.319</td>\n",
       "      <td>239.823</td>\n",
       "      <td>234.854</td>\n",
       "      <td>250.900</td>\n",
       "      <td>247.237</td>\n",
       "      <td>255.005</td>\n",
       "    </tr>\n",
       "    <tr>\n",
       "      <th>Mean saccade rate</th>\n",
       "      <td>2.061</td>\n",
       "      <td>1.948</td>\n",
       "      <td>2.014</td>\n",
       "      <td>2.234</td>\n",
       "      <td>2.126</td>\n",
       "      <td>1.966</td>\n",
       "    </tr>\n",
       "    <tr>\n",
       "      <th>Mean pupil diameter</th>\n",
       "      <td>0.029</td>\n",
       "      <td>0.036</td>\n",
       "      <td>0.070</td>\n",
       "      <td>-0.095</td>\n",
       "      <td>-0.111</td>\n",
       "      <td>-0.070</td>\n",
       "    </tr>\n",
       "    <tr>\n",
       "      <th>Pupil diameter amplitude</th>\n",
       "      <td>0.314</td>\n",
       "      <td>0.314</td>\n",
       "      <td>0.314</td>\n",
       "      <td>0.419</td>\n",
       "      <td>0.409</td>\n",
       "      <td>0.419</td>\n",
       "    </tr>\n",
       "    <tr>\n",
       "      <th>Mean head rotation</th>\n",
       "      <td>1.650</td>\n",
       "      <td>1.650</td>\n",
       "      <td>1.769</td>\n",
       "      <td>2.897</td>\n",
       "      <td>2.122</td>\n",
       "      <td>2.322</td>\n",
       "    </tr>\n",
       "    <tr>\n",
       "      <th>Mean head movement</th>\n",
       "      <td>0.507</td>\n",
       "      <td>0.538</td>\n",
       "      <td>0.523</td>\n",
       "      <td>1.365</td>\n",
       "      <td>0.970</td>\n",
       "      <td>1.025</td>\n",
       "    </tr>\n",
       "    <tr>\n",
       "      <th>Strategy ratio</th>\n",
       "      <td>1.405</td>\n",
       "      <td>1.476</td>\n",
       "      <td>1.854</td>\n",
       "      <td>0.724</td>\n",
       "      <td>0.787</td>\n",
       "      <td>0.874</td>\n",
       "    </tr>\n",
       "    <tr>\n",
       "      <th>Mean distance to figure</th>\n",
       "      <td>88.582</td>\n",
       "      <td>88.664</td>\n",
       "      <td>88.530</td>\n",
       "      <td>86.523</td>\n",
       "      <td>86.617</td>\n",
       "      <td>86.597</td>\n",
       "    </tr>\n",
       "  </tbody>\n",
       "</table>\n",
       "</div>"
      ],
      "text/plain": [
       "dimension                                     2D                           3D  \\\n",
       "DiffType                                   Equal Mirrored Structural    Equal   \n",
       "Correct                                    0.835    0.837      0.815    0.929   \n",
       "RT                                         6.102    7.424      7.970    5.179   \n",
       "Mean fixation duration                     0.215    0.225      0.218    0.210   \n",
       "Mean fixation rate                         2.252    2.205      2.263    2.297   \n",
       "Mean regressive fixation duration          0.133    0.153      0.145    0.165   \n",
       "Equal fixation duration between figures    0.687    0.694      0.718    0.704   \n",
       "Equal fixation duration within figure      0.162    0.222      0.196    0.457   \n",
       "Mean saccade velocity                    240.319  239.823    234.854  250.900   \n",
       "Mean saccade rate                          2.061    1.948      2.014    2.234   \n",
       "Mean pupil diameter                        0.029    0.036      0.070   -0.095   \n",
       "Pupil diameter amplitude                   0.314    0.314      0.314    0.419   \n",
       "Mean head rotation                         1.650    1.650      1.769    2.897   \n",
       "Mean head movement                         0.507    0.538      0.523    1.365   \n",
       "Strategy ratio                             1.405    1.476      1.854    0.724   \n",
       "Mean distance to figure                   88.582   88.664     88.530   86.523   \n",
       "\n",
       "dimension                                                    \n",
       "DiffType                                Mirrored Structural  \n",
       "Correct                                    0.829      0.844  \n",
       "RT                                         6.427      7.955  \n",
       "Mean fixation duration                     0.220      0.225  \n",
       "Mean fixation rate                         2.298      2.317  \n",
       "Mean regressive fixation duration          0.186      0.194  \n",
       "Equal fixation duration between figures    0.715      0.783  \n",
       "Equal fixation duration within figure      0.424      0.473  \n",
       "Mean saccade velocity                    247.237    255.005  \n",
       "Mean saccade rate                          2.126      1.966  \n",
       "Mean pupil diameter                       -0.111     -0.070  \n",
       "Pupil diameter amplitude                   0.409      0.419  \n",
       "Mean head rotation                         2.122      2.322  \n",
       "Mean head movement                         0.970      1.025  \n",
       "Strategy ratio                             0.787      0.874  \n",
       "Mean distance to figure                   86.617     86.597  "
      ]
     },
     "execution_count": 179,
     "metadata": {},
     "output_type": "execute_result"
    }
   ],
   "source": [
    "s"
   ]
  },
  {
   "cell_type": "code",
   "execution_count": 180,
   "id": "d496cfb5-99ee-479b-9210-cded941e1bc9",
   "metadata": {
    "tags": []
   },
   "outputs": [
    {
     "name": "stderr",
     "output_type": "stream",
     "text": [
      "C:\\Users\\Stark\\AppData\\Local\\Temp\\ipykernel_18684\\1443791123.py:2: FutureWarning: In future versions `DataFrame.to_latex` is expected to utilise the base implementation of `Styler.to_latex` for formatting and rendering. The arguments signature may therefore change. It is recommended instead to use `DataFrame.style.to_latex` which also contains additional functionality.\n",
      "  s.to_latex(buf=data_path + 'difftype.txt',encoding='utf-8', escape=False)\n"
     ]
    }
   ],
   "source": [
    "data_path = project_path.rsplit('\\\\',1)[0] + \"\\\\data\\\\6_feature_dataset\\\\temp\\\\\"\n",
    "s.to_latex(buf=data_path + 'difftype.txt',encoding='utf-8', escape=False)"
   ]
  }
 ],
 "metadata": {
  "kernelspec": {
   "display_name": "jupyter_venv",
   "language": "python",
   "name": "jupyter_venv"
  },
  "language_info": {
   "codemirror_mode": {
    "name": "ipython",
    "version": 3
   },
   "file_extension": ".py",
   "mimetype": "text/x-python",
   "name": "python",
   "nbconvert_exporter": "python",
   "pygments_lexer": "ipython3",
   "version": "3.11.4"
  }
 },
 "nbformat": 4,
 "nbformat_minor": 5
}

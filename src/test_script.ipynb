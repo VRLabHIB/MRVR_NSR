{
 "cells": [
  {
   "cell_type": "code",
   "execution_count": 1,
   "id": "47a2aa22-52a7-4255-821e-00a7749dc0ad",
   "metadata": {
    "tags": []
   },
   "outputs": [],
   "source": [
    "import numpy as np\n",
    "import pandas as pd\n",
    "import os\n",
    "project_path = os.path.abspath(os.getcwd())"
   ]
  },
  {
   "cell_type": "code",
   "execution_count": 6,
   "id": "578ee371-cd25-43d0-8239-51ce6ed3695f",
   "metadata": {
    "tags": []
   },
   "outputs": [
    {
     "data": {
      "text/html": [
       "<div>\n",
       "<style scoped>\n",
       "    .dataframe tbody tr th:only-of-type {\n",
       "        vertical-align: middle;\n",
       "    }\n",
       "\n",
       "    .dataframe tbody tr th {\n",
       "        vertical-align: top;\n",
       "    }\n",
       "\n",
       "    .dataframe thead th {\n",
       "        text-align: right;\n",
       "    }\n",
       "</style>\n",
       "<table border=\"1\" class=\"dataframe\">\n",
       "  <thead>\n",
       "    <tr style=\"text-align: right;\">\n",
       "      <th></th>\n",
       "      <th>stimulus</th>\n",
       "      <th>side</th>\n",
       "      <th>figure</th>\n",
       "      <th>cube</th>\n",
       "      <th>x</th>\n",
       "      <th>y</th>\n",
       "      <th>mid_x</th>\n",
       "      <th>mid_y</th>\n",
       "      <th>max_dist</th>\n",
       "      <th>radius</th>\n",
       "    </tr>\n",
       "  </thead>\n",
       "  <tbody>\n",
       "    <tr>\n",
       "      <th>0</th>\n",
       "      <td>1</td>\n",
       "      <td>left</td>\n",
       "      <td>M01</td>\n",
       "      <td>6</td>\n",
       "      <td>-18.230</td>\n",
       "      <td>106.320</td>\n",
       "      <td>-18.1045</td>\n",
       "      <td>109.9848</td>\n",
       "      <td>12.225162</td>\n",
       "      <td>23.3961</td>\n",
       "    </tr>\n",
       "    <tr>\n",
       "      <th>1</th>\n",
       "      <td>1</td>\n",
       "      <td>left</td>\n",
       "      <td>M01</td>\n",
       "      <td>2</td>\n",
       "      <td>-13.385</td>\n",
       "      <td>118.437</td>\n",
       "      <td>-18.1045</td>\n",
       "      <td>109.9848</td>\n",
       "      <td>12.225162</td>\n",
       "      <td>23.3961</td>\n",
       "    </tr>\n",
       "  </tbody>\n",
       "</table>\n",
       "</div>"
      ],
      "text/plain": [
       "   stimulus  side figure  cube       x        y    mid_x     mid_y   max_dist  \\\n",
       "0         1  left    M01     6 -18.230  106.320 -18.1045  109.9848  12.225162   \n",
       "1         1  left    M01     2 -13.385  118.437 -18.1045  109.9848  12.225162   \n",
       "\n",
       "    radius  \n",
       "0  23.3961  \n",
       "1  23.3961  "
      ]
     },
     "execution_count": 6,
     "metadata": {},
     "output_type": "execute_result"
    }
   ],
   "source": [
    "meta_path = project_path.rsplit('\\\\',1)[0] + \"\\\\meta\\\\\"\n",
    "df = pd.read_csv(meta_path + '3Dcube_locations.csv')\n",
    "df.head(2)"
   ]
  },
  {
   "cell_type": "code",
   "execution_count": 10,
   "id": "5308f60e-c889-4504-8bb8-a0017e927c15",
   "metadata": {
    "tags": []
   },
   "outputs": [
    {
     "data": {
      "text/plain": [
       "x      4.835598\n",
       "y    108.946698\n",
       "dtype: float64"
      ]
     },
     "execution_count": 10,
     "metadata": {},
     "output_type": "execute_result"
    }
   ],
   "source": [
    "df[['x','y']].mean(axis=0)"
   ]
  },
  {
   "cell_type": "code",
   "execution_count": 17,
   "id": "a7b65426-ad98-4302-a309-9f41a5e2a8f0",
   "metadata": {
    "tags": []
   },
   "outputs": [],
   "source": [
    "data_path = project_path.rsplit('\\\\',1)[0] + \"\\\\data\\\\6_feature_dataset\\\\\"\n",
    "\n",
    "dfo = pd.read_csv(data_path + '2023-06-17_eye_features.csv')\n",
    "dfn = pd.read_csv(data_path + '2024-03-25_eye_features.csv')\n",
    "dfn = dfn.drop(columns=['Mean fixation duration during head movement'])\n",
    "\n",
    "df = dfo.merge(dfn, on=['ID', 'dimension', 'condition', 'stimulus'], how='left')\n",
    "df = df[~df['stimulus'].isin([21, 24])]\n",
    "df.to_csv(data_path + '2024-03-25_final_feature_dataset.csv', index=False)"
   ]
  },
  {
   "cell_type": "code",
   "execution_count": 19,
   "id": "058c8842-536a-4142-8f13-fca1fc2606f9",
   "metadata": {
    "tags": []
   },
   "outputs": [
    {
     "data": {
      "text/plain": [
       "Index(['ID', 'dimension', 'condition', 'stimulus', 'Correct', 'RT', 'Response',\n",
       "       'Mean fixation duration', 'Mean regressive fixation duration',\n",
       "       'Equal fixation duration between figures',\n",
       "       'Equal fixation duration within figure', 'Mean saccade duration',\n",
       "       'Mean saccade velocity', 'Mean pupil diameter',\n",
       "       'Pupil diameter amplitude', 'Mean head rotation', 'Mean head movement',\n",
       "       'Strategy ratio', 'Equal?', 'AngularDisp', 'DiffType',\n",
       "       'Number of Fixations', 'Mean fixation rate', 'Number of Saccades',\n",
       "       'Mean saccade rate', 'Mean distance to figure',\n",
       "       'Mean angle around figure', 'Mean horizontal head movement'],\n",
       "      dtype='object')"
      ]
     },
     "execution_count": 19,
     "metadata": {},
     "output_type": "execute_result"
    }
   ],
   "source": [
    "df.columns"
   ]
  },
  {
   "cell_type": "code",
   "execution_count": 44,
   "id": "c2e10662-d326-4aa7-9eaa-d702e799a9bb",
   "metadata": {
    "tags": []
   },
   "outputs": [
    {
     "name": "stderr",
     "output_type": "stream",
     "text": [
      "C:\\Users\\Stark\\AppData\\Local\\Temp\\ipykernel_11392\\2327234830.py:24: FutureWarning: In future versions `DataFrame.to_latex` is expected to utilise the base implementation of `Styler.to_latex` for formatting and rendering. The arguments signature may therefore change. It is recommended instead to use `DataFrame.style.to_latex` which also contains additional functionality.\n",
      "  dfr.to_latex(buf=data_path + 'corr.txt',encoding='utf-8', escape=False)\n",
      "C:\\Users\\Stark\\AppData\\Local\\Temp\\ipykernel_11392\\2327234830.py:41: FutureWarning: In future versions `DataFrame.to_latex` is expected to utilise the base implementation of `Styler.to_latex` for formatting and rendering. The arguments signature may therefore change. It is recommended instead to use `DataFrame.style.to_latex` which also contains additional functionality.\n",
      "  dfr.to_latex(buf=data_path + 'corr2.txt',encoding='utf-8', escape=False)\n",
      "C:\\Users\\Stark\\AppData\\Local\\Temp\\ipykernel_11392\\2327234830.py:58: FutureWarning: In future versions `DataFrame.to_latex` is expected to utilise the base implementation of `Styler.to_latex` for formatting and rendering. The arguments signature may therefore change. It is recommended instead to use `DataFrame.style.to_latex` which also contains additional functionality.\n",
      "  dfr.to_latex(buf=data_path + 'corr3.txt',encoding='utf-8', escape=False)\n"
     ]
    }
   ],
   "source": [
    "df2 = df[df['dimension']==2]\n",
    "df3 = df[df['dimension']==3]\n",
    "\n",
    "vars2 = ['Mean fixation duration', 'Mean fixation rate', 'Mean regressive fixation duration',\n",
    "   'Equal fixation duration between figures',\n",
    "   'Equal fixation duration within figure','Strategy ratio',\n",
    "   'Mean saccade velocity','Mean saccade rate', 'Mean pupil diameter',\n",
    "   'Pupil diameter amplitude', 'Mean distance to figure', 'Mean horizontal head movement']\n",
    "dfs = df[vars2]\n",
    "dfs= dfs.rename(columns={'Pupil diameter amplitude':'Peak pupil diameter'})\n",
    "\n",
    "dfr = dfs.corr().round(2)\n",
    "dfr = dfr.where(np.tril(np.ones(dfr.shape), k=-1).astype(bool))\n",
    "dfr = dfr.round(3)\n",
    "dfr = dfr.replace(np.nan, '-')\n",
    "dfr = dfr.drop(columns='Mean horizontal head movement')\n",
    "dfr.columns = np.arange(1, 12)\n",
    "idx_lst = list()\n",
    "for idx, i in zip(dfr.index, np.arange(1,16)):\n",
    "    idx_lst.append(str(i) +' '+ str(idx))\n",
    "dfr.index = idx_lst\n",
    "#table = dfr.to_latex(float_format=\"{:0.2f}\".format)\n",
    "data_path = project_path.rsplit('\\\\',1)[0] + \"\\\\data\\\\6_feature_dataset\\\\temp\\\\\"\n",
    "dfr.to_latex(buf=data_path + 'corr.txt',encoding='utf-8', escape=False)\n",
    "\n",
    "dfs = df2[vars2]\n",
    "dfs= dfs.rename(columns={'Pupil diameter amplitude':'Peak pupil diameter'})\n",
    "\n",
    "dfr = dfs.corr().round(2)\n",
    "dfr = dfr.where(np.tril(np.ones(dfr.shape), k=-1).astype(bool))\n",
    "dfr = dfr.round(3)\n",
    "dfr = dfr.replace(np.nan, '-')\n",
    "dfr = dfr.drop(columns='Mean horizontal head movement')\n",
    "dfr.columns = np.arange(1, 12)\n",
    "idx_lst = list()\n",
    "for idx, i in zip(dfr.index, np.arange(1,16)):\n",
    "    idx_lst.append(str(i) +' '+ str(idx))\n",
    "dfr.index = idx_lst\n",
    "#table = dfr.to_latex(float_format=\"{:0.2f}\".format)\n",
    "data_path = project_path.rsplit('\\\\',1)[0] + \"\\\\data\\\\6_feature_dataset\\\\temp\\\\\"\n",
    "dfr.to_latex(buf=data_path + 'corr2.txt',encoding='utf-8', escape=False)\n",
    "\n",
    "dfs = df3[vars2]\n",
    "dfs= dfs.rename(columns={'Pupil diameter amplitude':'Peak pupil diameter'})\n",
    "\n",
    "dfr = dfs.corr().round(2)\n",
    "dfr = dfr.where(np.tril(np.ones(dfr.shape), k=-1).astype(bool))\n",
    "dfr = dfr.round(3)\n",
    "dfr = dfr.replace(np.nan, '-')\n",
    "dfr = dfr.drop(columns='Mean horizontal head movement')\n",
    "dfr.columns = np.arange(1, 12)\n",
    "idx_lst = list()\n",
    "for idx, i in zip(dfr.index, np.arange(1,16)):\n",
    "    idx_lst.append(str(i) +' '+ str(idx))\n",
    "dfr.index = idx_lst\n",
    "#table = dfr.to_latex(float_format=\"{:0.2f}\".format)\n",
    "data_path = project_path.rsplit('\\\\',1)[0] + \"\\\\data\\\\6_feature_dataset\\\\temp\\\\\"\n",
    "dfr.to_latex(buf=data_path + 'corr3.txt',encoding='utf-8', escape=False)"
   ]
  },
  {
   "cell_type": "code",
   "execution_count": 100,
   "id": "e0769437-8095-42ca-9552-0791b0249409",
   "metadata": {
    "tags": []
   },
   "outputs": [
    {
     "name": "stderr",
     "output_type": "stream",
     "text": [
      "C:\\Users\\Stark\\AppData\\Local\\Temp\\ipykernel_18684\\1674564250.py:1: FutureWarning: The default value of numeric_only in DataFrame.corr is deprecated. In a future version, it will default to False. Select only valid columns or specify the value of numeric_only to silence this warning.\n",
      "  dfc = df.iloc[:, 4:].corr().round(3)\n"
     ]
    }
   ],
   "source": [
    "#dfc = df.iloc[:, 4:].corr().round(3)\n",
    "#dfc.index = dfc.columns\n",
    "#dfc.to_csv(data_path + '2024-03-21_correlations.csv', index=True)"
   ]
  },
  {
   "cell_type": "code",
   "execution_count": 30,
   "id": "010f42d8-02e1-4afd-bb23-26749c7b352d",
   "metadata": {
    "tags": []
   },
   "outputs": [],
   "source": [
    "data_path = project_path.rsplit('\\\\',1)[0] + \"\\\\data\\\\6_feature_dataset\\\\\"\n",
    "dfa = df.groupby(['ID','dimension'])[['ID', 'dimension', 'Correct', 'RT',\n",
    "       'Mean fixation duration','Mean fixation rate', 'Mean regressive fixation duration',\n",
    "       'Equal fixation duration between figures',\n",
    "       'Equal fixation duration within figure', 'Strategy ratio',\n",
    "       'Mean saccade velocity', 'Mean saccade rate','Mean pupil diameter',\n",
    "       'Pupil diameter amplitude', \n",
    "        'Mean distance to figure', 'Mean horizontal head movement']].mean()\n",
    "\n",
    "dfa['dimension'] = dfa['dimension'].astype(int)\n",
    "dfa = dfa.rename(columns={'Relative Number of Fixations':'Mean fixation rate', 'Relative Number of Saccades':'Mean saccade rate'})\n",
    "dfa.to_csv(data_path + '2024-03-25_final_feature_dataset_agg.csv', index=False)"
   ]
  },
  {
   "cell_type": "code",
   "execution_count": 31,
   "id": "3535b6e8-4205-4d20-a76a-8e6aa9be04a7",
   "metadata": {
    "tags": []
   },
   "outputs": [
    {
     "data": {
      "text/plain": [
       "Index(['ID', 'dimension', 'Correct', 'RT', 'Mean fixation duration',\n",
       "       'Mean fixation rate', 'Mean regressive fixation duration',\n",
       "       'Equal fixation duration between figures',\n",
       "       'Equal fixation duration within figure', 'Strategy ratio',\n",
       "       'Mean saccade velocity', 'Mean saccade rate', 'Mean pupil diameter',\n",
       "       'Pupil diameter amplitude', 'Mean distance to figure',\n",
       "       'Mean horizontal head movement'],\n",
       "      dtype='object')"
      ]
     },
     "execution_count": 31,
     "metadata": {},
     "output_type": "execute_result"
    }
   ],
   "source": [
    "dfa.columns"
   ]
  },
  {
   "cell_type": "markdown",
   "id": "82834953-86f7-4dd2-8102-39492c2d4653",
   "metadata": {},
   "source": [
    "## After R processing"
   ]
  },
  {
   "cell_type": "code",
   "execution_count": 162,
   "id": "5a8a2fb2-72be-4632-b93f-14e64b4a92b2",
   "metadata": {
    "tags": []
   },
   "outputs": [
    {
     "data": {
      "text/plain": [
       "Index(['Unnamed: 0', 'var1.stud.', 'var2.stud.', 'test.stud.', 'stat.stud.',\n",
       "       'df.stud.', 'p.stud.', 'md.stud.', 'sed.stud.', 'cil.stud.',\n",
       "       'ciu.stud.', 'esType.stud.', 'es.stud.', 'var1.wilc.', 'var2.wilc.',\n",
       "       'test.wilc.', 'stat.wilc.', 'p.wilc.', 'md.wilc.', 'sed.wilc.',\n",
       "       'cil.wilc.', 'ciu.wilc.', 'esType.wilc.', 'es.wilc.'],\n",
       "      dtype='object')"
      ]
     },
     "execution_count": 162,
     "metadata": {},
     "output_type": "execute_result"
    }
   ],
   "source": [
    "data_path = project_path.rsplit('\\\\',1)[0] + \"\\\\data\\\\6_feature_dataset\\\\temp\\\\\"\n",
    "\n",
    "dfs = pd.read_csv(data_path +'stat22.csv')\n",
    "dfs = dfs.round(3)\n",
    "dfs.columns"
   ]
  },
  {
   "cell_type": "code",
   "execution_count": 163,
   "id": "f82b0583-62f2-4ff9-953f-4ced28dc1fbe",
   "metadata": {
    "tags": []
   },
   "outputs": [
    {
     "name": "stderr",
     "output_type": "stream",
     "text": [
      "C:\\Users\\Stark\\AppData\\Local\\Temp\\ipykernel_11392\\1479356347.py:6: SettingWithCopyWarning: \n",
      "A value is trying to be set on a copy of a slice from a DataFrame\n",
      "\n",
      "See the caveats in the documentation: https://pandas.pydata.org/pandas-docs/stable/user_guide/indexing.html#returning-a-view-versus-a-copy\n",
      "  table['P'].iloc[2:] = adjW[1].round(3)\n",
      "C:\\Users\\Stark\\AppData\\Local\\Temp\\ipykernel_11392\\1479356347.py:12: FutureWarning: In a future version of pandas all arguments of StringMethods.rsplit except for the argument 'pat' will be keyword-only.\n",
      "  table.insert(0,'Feature','$' + dfs['var1.wilc.'].str.rsplit('.', 1, expand=True)[0] + '$')\n",
      "C:\\Users\\Stark\\AppData\\Local\\Temp\\ipykernel_11392\\1479356347.py:13: FutureWarning: The default value of regex will change from True to False in a future version. In addition, single character regular expressions will *not* be treated as literal strings when regex=True.\n",
      "  table['Feature'] = table['Feature'].str.replace('.',' ')\n",
      "C:\\Users\\Stark\\AppData\\Local\\Temp\\ipykernel_11392\\1479356347.py:14: FutureWarning: In future versions `DataFrame.to_latex` is expected to utilise the base implementation of `Styler.to_latex` for formatting and rendering. The arguments signature may therefore change. It is recommended instead to use `DataFrame.style.to_latex` which also contains additional functionality.\n",
      "  table.to_latex(buf=data_path + 'wtest.txt',encoding='utf-8', escape=False)\n"
     ]
    }
   ],
   "source": [
    "from statsmodels.stats import multitest\n",
    "table = dfs[['stat.wilc.', 'p.wilc.']]\n",
    "table = table.rename(columns={'stat.wilc.':'T','p.wilc.':'P'}) \n",
    "pvalsW = table['P'].iloc[2:].to_list()\n",
    "adjW = multitest.multipletests(pvalsW, alpha=0.05, method='bonferroni', is_sorted=False, returnsorted=False)\n",
    "table['P'].iloc[2:] = adjW[1].round(3)\n",
    "table['T'] = '$' + table['T'].astype(str) + '$'\n",
    "table['P'] = '$' + table['P'].astype(str) + '$'\n",
    "table['M diff'] ='$' + dfs['md.wilc.'].astype(str) + '\\pm' + dfs['sed.wilc.'].astype(str) + '$'\n",
    "table['95% CI'] = '$' +'[' + dfs['cil.wilc.'].astype(str) + ',' + dfs['ciu.wilc.'].astype(str) + ']' + '$'\n",
    "table['Effect size'] ='$' + dfs['es.wilc.'].astype(str) + '$'\n",
    "table.insert(0,'Feature','$' + dfs['var1.wilc.'].str.rsplit('.', 1, expand=True)[0] + '$')\n",
    "table['Feature'] = table['Feature'].str.replace('.',' ')\n",
    "table.to_latex(buf=data_path + 'wtest.txt',encoding='utf-8', escape=False)"
   ]
  },
  {
   "cell_type": "code",
   "execution_count": 164,
   "id": "ca850d7d-aa03-414d-a2bb-657e63581d29",
   "metadata": {
    "tags": []
   },
   "outputs": [
    {
     "name": "stderr",
     "output_type": "stream",
     "text": [
      "C:\\Users\\Stark\\AppData\\Local\\Temp\\ipykernel_11392\\386623709.py:12: FutureWarning: In a future version of pandas all arguments of StringMethods.rsplit except for the argument 'pat' will be keyword-only.\n",
      "  table.insert(0,'Feature','$' + dfs['var1.stud.'].str.rsplit('.', 1, expand=True)[0] + '$')\n",
      "C:\\Users\\Stark\\AppData\\Local\\Temp\\ipykernel_11392\\386623709.py:13: FutureWarning: The default value of regex will change from True to False in a future version. In addition, single character regular expressions will *not* be treated as literal strings when regex=True.\n",
      "  table['Feature'] = table['Feature'].str.replace('.',' ')\n",
      "C:\\Users\\Stark\\AppData\\Local\\Temp\\ipykernel_11392\\386623709.py:14: FutureWarning: In future versions `DataFrame.to_latex` is expected to utilise the base implementation of `Styler.to_latex` for formatting and rendering. The arguments signature may therefore change. It is recommended instead to use `DataFrame.style.to_latex` which also contains additional functionality.\n",
      "  table.to_latex(buf=data_path + 'ttest.txt',encoding='utf-8', escape=False)\n"
     ]
    }
   ],
   "source": [
    "from statsmodels.stats import multitest\n",
    "table = dfs[['stat.stud.', 'p.stud.']]\n",
    "table = table.rename(columns={'stat.stud.':'T','p.stud.':'P'}) \n",
    "pvalsT = table['P'].iloc[2:].to_list()\n",
    "adjT = multitest.multipletests(pvalsT, alpha=0.05, method='bonferroni', is_sorted=False, returnsorted=False)\n",
    "table['P'].iloc[2:] = adjT[1].round(3)\n",
    "table['T'] = '$' + table['T'].astype(str) + '$'\n",
    "table['P'] = '$' + table['P'].astype(str) + '$'\n",
    "table['M diff'] ='$' + dfs['md.stud.'].astype(str) + '\\pm' + dfs['sed.stud.'].astype(str) + '$'\n",
    "table['95% CI'] = '$' +'[' + dfs['cil.stud.'].astype(str) + ',' + dfs['ciu.stud.'].astype(str) + ']' + '$'\n",
    "table['Effect size'] ='$' + dfs['es.stud.'].astype(str) + '$'\n",
    "table.insert(0,'Feature','$' + dfs['var1.stud.'].str.rsplit('.', 1, expand=True)[0] + '$')\n",
    "table['Feature'] = table['Feature'].str.replace('.',' ')\n",
    "table.to_latex(buf=data_path + 'ttest.txt',encoding='utf-8', escape=False)"
   ]
  },
  {
   "cell_type": "code",
   "execution_count": 50,
   "id": "275ea916-dbcf-44ce-817b-df831c9b736a",
   "metadata": {
    "tags": []
   },
   "outputs": [
    {
     "name": "stderr",
     "output_type": "stream",
     "text": [
      "C:\\Users\\Stark\\AppData\\Local\\Temp\\ipykernel_11392\\1071669715.py:2: FutureWarning: In future versions `DataFrame.to_latex` is expected to utilise the base implementation of `Styler.to_latex` for formatting and rendering. The arguments signature may therefore change. It is recommended instead to use `DataFrame.style.to_latex` which also contains additional functionality.\n",
      "  dfs1.iloc[:,1:].to_latex(buf=data_path + 'stats.txt',encoding='utf-8', escape=False)\n"
     ]
    }
   ],
   "source": [
    "data_path = project_path.rsplit('\\\\',1)[0] + \"\\\\data\\\\6_feature_dataset\\\\temp\\\\\"\n",
    "dfs1.iloc[:,1:].to_latex(buf=data_path + 'stats.txt',encoding='utf-8', escape=False)"
   ]
  },
  {
   "cell_type": "code",
   "execution_count": 178,
   "id": "00bb177b-9d2f-4bb2-b8b1-b7087259ac76",
   "metadata": {
    "tags": []
   },
   "outputs": [
    {
     "name": "stderr",
     "output_type": "stream",
     "text": [
      "C:\\Users\\Stark\\AppData\\Local\\Temp\\ipykernel_11392\\1796752688.py:5: FutureWarning: In a future version of pandas all arguments of StringMethods.rsplit except for the argument 'pat' will be keyword-only.\n",
      "  dfs1['Variable'].str.rsplit(' ', 1, expand=True)[0].unique()\n"
     ]
    },
    {
     "data": {
      "text/plain": [
       "array(['Correct', 'RT', 'Mean fixation duration', 'Mean fixation rate',\n",
       "       'Mean regressive fixation duration',\n",
       "       'Equal fixation duration between figure',\n",
       "       'Equal fixation duration within figures', 'Strategy ratio',\n",
       "       'Mean saccade velocity', 'Mean saccades rate',\n",
       "       'Mean pupil diameter', 'Peak pupil diameter',\n",
       "       'Mean distance to figure', 'Mean horizontal head movement'],\n",
       "      dtype=object)"
      ]
     },
     "execution_count": 178,
     "metadata": {},
     "output_type": "execute_result"
    }
   ],
   "source": [
    "data_path = project_path.rsplit('\\\\',1)[0] + \"\\\\data\\\\6_feature_dataset\\\\temp\\\\\"\n",
    "\n",
    "dfs1 = pd.read_csv(data_path +'stat11.csv')\n",
    "dfs1 = dfs1.round(3)\n",
    "dfs1['Variable'].str.rsplit(' ', 1, expand=True)[0].unique()"
   ]
  },
  {
   "cell_type": "code",
   "execution_count": 188,
   "id": "cf0cf4c4-9603-431b-b1f4-8f90d9624841",
   "metadata": {
    "tags": []
   },
   "outputs": [
    {
     "name": "stderr",
     "output_type": "stream",
     "text": [
      "C:\\Users\\Stark\\AppData\\Local\\Temp\\ipykernel_11392\\3261538736.py:2: FutureWarning: In a future version of pandas all arguments of StringMethods.rsplit except for the argument 'pat' will be keyword-only.\n",
      "  for col in dfs1['Variable'].str.rsplit(' ', 1, expand=True)[0].unique():\n"
     ]
    }
   ],
   "source": [
    "dfss = pd.DataFrame({'Feature':[], '2D (M \\pm SD)':[], '3D (M \\pm SD)':[]})\n",
    "for col in dfs1['Variable'].str.rsplit(' ', 1, expand=True)[0].unique():\n",
    "    \n",
    "    col2 = col + ' 2D'\n",
    "    col3 = col + ' 3D'\n",
    "    \n",
    "    s2 = '$' + str(dfs1[dfs1['Variable']==col2]['mean'].values[0]) + '\\pm' + str(dfs1[dfs1['Variable']==col2]['sd'].values[0]) + '$'\n",
    "    s3 = '$' + str(dfs1[dfs1['Variable']==col3]['mean'].values[0]) + '\\pm' + str(dfs1[dfs1['Variable']==col3]['sd'].values[0]) + '$'\n",
    "    series = pd.DataFrame({'Feature': [col], '2D (M \\pm SD)':[s2], '3D (M \\pm SD)': [s3]})\n",
    "    dfss = pd.concat([dfss,series], axis=0)\n",
    "    \n",
    "dfss['Feature'] =dfss['Feature'].replace({'RT': 'RT (s)','Mean fixation duration':'Mean fixation duration (s)', 'Mean fixation rate':'Mean fixation rate ($n/s$)', \n",
    "                           'Mean regressive fixation duration': 'Mean regressive fixation duration (s)',\n",
    "                           'Equal fixation duration between figures':'Equal fixation duration between figures (ratio)',\n",
    "                           'Equal fixation duration within figure': 'Equal fixation duration within figure (ratio)',\n",
    "                           'Strategy ratio': 'Strategy ratio ($\\lessgtr 1$)', 'Mean saccade velocity': 'Mean saccade velocity ($\\degree / s$)',\n",
    "                           'Mean saccade rate': 'Mean saccade rate ($n/s$)', 'Mean pupil diameter':'Mean pupil diameter (mm)', \n",
    "                           'Pupil diameter amplitude': 'Pupil diameter amplitude (mm)', 'Mean distance to figure': 'Mean distance to figure (cm)', \n",
    "                           'Mean horizontal head movement':'Mean horizontal head movement (cm)}'})\n",
    "\n",
    "dfss.index = dfss['Feature']\n",
    "dfss = dfss.drop(columns='Feature')"
   ]
  },
  {
   "cell_type": "code",
   "execution_count": 189,
   "id": "a98dc51b-949e-4263-9341-d4b714c8538d",
   "metadata": {
    "tags": []
   },
   "outputs": [
    {
     "name": "stderr",
     "output_type": "stream",
     "text": [
      "C:\\Users\\Stark\\AppData\\Local\\Temp\\ipykernel_11392\\1328920915.py:2: FutureWarning: In future versions `DataFrame.to_latex` is expected to utilise the base implementation of `Styler.to_latex` for formatting and rendering. The arguments signature may therefore change. It is recommended instead to use `DataFrame.style.to_latex` which also contains additional functionality.\n",
      "  dfss.to_latex(buf=data_path + 'means1.txt',encoding='utf-8', escape=False)\n"
     ]
    }
   ],
   "source": [
    "data_path = project_path.rsplit('\\\\',1)[0] + \"\\\\data\\\\6_feature_dataset\\\\temp\\\\\"\n",
    "dfss.to_latex(buf=data_path + 'means1.txt',encoding='utf-8', escape=False)"
   ]
  },
  {
   "cell_type": "markdown",
   "id": "0e700f27-e39c-447e-b9ce-75d81293663f",
   "metadata": {},
   "source": [
    "## Create new table for stim type"
   ]
  },
  {
   "cell_type": "code",
   "execution_count": 81,
   "id": "3273fa2e-7076-4144-bd68-9f62d0d723f8",
   "metadata": {
    "tags": []
   },
   "outputs": [
    {
     "name": "stderr",
     "output_type": "stream",
     "text": [
      "C:\\Users\\Stark\\AppData\\Local\\Temp\\ipykernel_11392\\135016802.py:19: FutureWarning: The default value of numeric_only in DataFrameGroupBy.mean is deprecated. In a future version, numeric_only will default to False. Either specify numeric_only or select only columns which should be valid for the function.\n",
      "  'Pupil diameter amplitude',  'Mean distance to figure','Mean horizontal head movement']].mean().round(3)\n",
      "C:\\Users\\Stark\\AppData\\Local\\Temp\\ipykernel_11392\\135016802.py:27: FutureWarning: The default value of numeric_only in DataFrameGroupBy.std is deprecated. In a future version, numeric_only will default to False. Either specify numeric_only or select only columns which should be valid for the function.\n",
      "  'Pupil diameter amplitude',  'Mean distance to figure','Mean horizontal head movement']].std().round(3)\n"
     ]
    }
   ],
   "source": [
    "data_path = project_path.rsplit('\\\\',1)[0] + \"\\\\data\\\\6_feature_dataset\\\\\"\n",
    "dff = pd.read_csv(data_path + '2024-03-25_final_feature_dataset.csv')\n",
    "dff = dff[~dff['stimulus'].isin([21, 24])]\n",
    "dff = dff.drop(columns=['condition', 'stimulus', 'Response', 'Equal?', 'AngularDisp', 'Number of Fixations', 'Number of Saccades',\n",
    "                       'Mean saccade duration', 'ID'])\n",
    "dff['dimension'] = dff['dimension'].astype(str) + ['D ($M \\pm SD$)']\n",
    "\n",
    "dff['DiffType'] = dff['DiffType'].replace({'e':'Equal','m':'Mirrored', 's':'Structural'})\n",
    "\n",
    "\n",
    "\n",
    "\n",
    "m = dff.groupby(['dimension','DiffType'])[[ 'dimension', 'Correct', 'RT',\n",
    "       'Mean fixation duration','Mean fixation rate', 'Mean regressive fixation duration',\n",
    "       'Equal fixation duration between figures',\n",
    "       'Equal fixation duration within figure',\n",
    "        'Strategy ratio',\n",
    "       'Mean saccade velocity', 'Mean saccade rate','Mean pupil diameter',\n",
    "       'Pupil diameter amplitude',  'Mean distance to figure','Mean horizontal head movement']].mean().round(3)\n",
    "\n",
    "s = dff.groupby(['dimension','DiffType'])[[ 'dimension', 'Correct', 'RT',\n",
    "       'Mean fixation duration','Mean fixation rate', 'Mean regressive fixation duration',\n",
    "       'Equal fixation duration between figures',\n",
    "       'Equal fixation duration within figure',\n",
    "        'Strategy ratio',\n",
    "       'Mean saccade velocity', 'Mean saccade rate','Mean pupil diameter',\n",
    "       'Pupil diameter amplitude',  'Mean distance to figure','Mean horizontal head movement']].std().round(3)\n",
    "m = m.transpose()\n",
    "s = s.transpose()\n",
    "for i in range(len(m)):\n",
    "    for j in range(len(m.columns)):\n",
    "        None\n",
    "        m.iloc[i,j] = \"$\" + str(m.iloc[i,j]) + \"\\pm\" + str(s.iloc[i,j]) + \"$\"\n",
    "m =m.rename(index = {'RT': 'RT (s)','Mean fixation duration':'Mean fixation duration (s)', 'Mean fixation rate':'Mean fixation rate ($n/s$)', \n",
    "                           'Mean regressive fixation duration': '\\parbox[t][0.8cm][t]{3.4cm}{Mean regressive fixation duration (s)}',\n",
    "                           'Equal fixation duration between figures':'\\parbox[t][0.8cm][t]{3.4cm}{Equal fixation duration between figures (ratio)}',\n",
    "                           'Equal fixation duration within figure': '\\parbox[t][0.8cm][t]{3.4cm}{Equal fixation duration within figure (ratio)}',\n",
    "                           'Strategy ratio': 'Strategy ratio ($\\lessgtr 1$)', 'Mean saccade velocity': 'Mean saccade velocity ($\\degree / s$)',\n",
    "                           'Mean saccade rate': 'Mean saccade rate ($n/s$)', 'Mean pupil diameter':'Mean pupil diameter (mm)', \n",
    "                           'Pupil diameter amplitude': 'Pupil diameter amplitude (mm)', 'Mean distance to figure': 'Mean distance to figure (cm)', \n",
    "                           'Mean horizontal head movement':'\\parbox[t][0.8cm][t]{3.4cm}{Mean horizontal head movement (cm)}'})"
   ]
  },
  {
   "cell_type": "code",
   "execution_count": 111,
   "id": "b78fe477-3790-4b8d-bb77-b5287abe6377",
   "metadata": {
    "tags": []
   },
   "outputs": [],
   "source": [
    "d2 = m['2D ($M \\pm SD$)']\n",
    "d3 = m['3D ($M \\pm SD$)']\n",
    "\n",
    "dd = pd.DataFrame({'Equal':[], 'Mirrored':[], 'Structural':[]})\n",
    "for i in d2.index:\n",
    "    d2s = d2.loc[[i],:]\n",
    "    d3s = d3.loc[[i],:]\n",
    "    d2s.index = d2s.index.values + ' 2D'\n",
    "    d3s.index = d3s.index.values + ' 3D'\n",
    "    dd = pd.concat([dd, d2s], axis=0)\n",
    "    dd = pd.concat([dd, d3s], axis=0)"
   ]
  },
  {
   "cell_type": "code",
   "execution_count": 114,
   "id": "d496cfb5-99ee-479b-9210-cded941e1bc9",
   "metadata": {
    "tags": []
   },
   "outputs": [
    {
     "name": "stderr",
     "output_type": "stream",
     "text": [
      "C:\\Users\\Stark\\AppData\\Local\\Temp\\ipykernel_11392\\2360034233.py:3: FutureWarning: In future versions `DataFrame.to_latex` is expected to utilise the base implementation of `Styler.to_latex` for formatting and rendering. The arguments signature may therefore change. It is recommended instead to use `DataFrame.style.to_latex` which also contains additional functionality.\n",
      "  dd.to_latex(buf=data_path + 'difftype.txt',encoding='utf-8', escape=False)\n"
     ]
    }
   ],
   "source": [
    "data_path = project_path.rsplit('\\\\',1)[0] + \"\\\\data\\\\6_feature_dataset\\\\temp\\\\\"\n",
    "with pd.option_context(\"max_colwidth\", 1000):\n",
    "    dd.to_latex(buf=data_path + 'difftype.txt',encoding='utf-8', escape=False)\n"
   ]
  },
  {
   "cell_type": "code",
   "execution_count": 126,
   "id": "29034b0b-c975-4cf3-9c54-8ce6d884f7b8",
   "metadata": {
    "tags": []
   },
   "outputs": [],
   "source": [
    "data_path = project_path.rsplit('\\\\',1)[0] + \"\\\\data\\\\6_feature_dataset\\\\\"\n",
    "dff = pd.read_csv(data_path + '2024-03-25_final_feature_dataset.csv')\n",
    "dff = dff[~dff['stimulus'].isin([21, 24])]\n",
    "dff = dff.drop(columns=['condition', 'stimulus', 'Response', 'Equal?', 'AngularDisp', 'Number of Fixations', 'Number of Saccades',\n",
    "                       'Mean saccade duration', 'Mean head rotation', 'Mean head movement', 'Mean angle around figure'])\n",
    "dff = dff[['ID', 'dimension', 'DiffType','Correct', 'RT',\n",
    "       'Mean fixation duration','Mean fixation rate', 'Mean regressive fixation duration',\n",
    "       'Equal fixation duration between figures',\n",
    "       'Equal fixation duration within figure',\n",
    "        'Strategy ratio',\n",
    "       'Mean saccade velocity', 'Mean saccade rate','Mean pupil diameter',\n",
    "       'Pupil diameter amplitude',  'Mean distance to figure','Mean horizontal head movement']]\n",
    "dff['dimension'] = dff['dimension'].astype(str) + ['D']\n",
    "\n",
    "dff['DiffType'] = dff['DiffType'].replace({'e':'Equal','m':'Mirrored', 's':'Structural'})"
   ]
  },
  {
   "cell_type": "code",
   "execution_count": 218,
   "id": "9272ef64-8a6d-4663-92cf-4f786778147f",
   "metadata": {
    "tags": []
   },
   "outputs": [
    {
     "data": {
      "text/plain": [
       "0         \"Mirrored\"))[T.Equal]\n",
       "1    \"Mirrored\"))[T.Structural]\n",
       "Name: 1, dtype: object"
      ]
     },
     "execution_count": 218,
     "metadata": {},
     "output_type": "execute_result"
    }
   ],
   "source": [
    "x = mdf.summary().tables[1].iloc[4:-1]\n",
    "x = x.reset_index()\n",
    "x['index'].str.split(',',expand=True)[1].str.split('=',expand=True)[1]"
   ]
  },
  {
   "cell_type": "code",
   "execution_count": 264,
   "id": "24a2aeae-f999-419e-80b6-6b0538de139f",
   "metadata": {
    "tags": []
   },
   "outputs": [
    {
     "name": "stderr",
     "output_type": "stream",
     "text": [
      "C:\\Users\\Stark\\AppData\\Local\\Programs\\Python\\Python311\\Lib\\site-packages\\statsmodels\\regression\\mixed_linear_model.py:2237: ConvergenceWarning: The MLE may be on the boundary of the parameter space.\n",
      "  warnings.warn(msg, ConvergenceWarning)\n"
     ]
    },
    {
     "name": "stdout",
     "output_type": "stream",
     "text": [
      "                         Mixed Linear Model Regression Results\n",
      "=======================================================================================\n",
      "Model:                       MixedLM           Dependent Variable:           Correct   \n",
      "No. Observations:            2978              Method:                       REML      \n",
      "No. Groups:                  54                Scale:                        0.1147    \n",
      "Min. group size:             49                Log-Likelihood:               -1052.5504\n",
      "Max. group size:             56                Converged:                    Yes       \n",
      "Mean group size:             55.1                                                      \n",
      "---------------------------------------------------------------------------------------\n",
      "                                             Coef.  Std.Err.   z    P>|z| [0.025 0.975]\n",
      "---------------------------------------------------------------------------------------\n",
      "Intercept                                     0.839    0.016 51.535 0.000  0.807  0.871\n",
      "C(dimension)[T.3D]                            0.089    0.018  5.057 0.000  0.054  0.123\n",
      "C(DiffType)[T.Mirrored]                      -0.005    0.020 -0.236 0.814 -0.044  0.034\n",
      "C(DiffType)[T.Structural]                    -0.024    0.024 -0.993 0.321 -0.072  0.023\n",
      "C(dimension)[T.3D]:C(DiffType)[T.Mirrored]   -0.094    0.028 -3.353 0.001 -0.149 -0.039\n",
      "C(dimension)[T.3D]:C(DiffType)[T.Structural] -0.060    0.034 -1.746 0.081 -0.127  0.007\n",
      "Group Var                                     0.006    0.005                           \n",
      "=======================================================================================\n",
      "\n"
     ]
    },
    {
     "name": "stderr",
     "output_type": "stream",
     "text": [
      "C:\\Users\\Stark\\AppData\\Local\\Programs\\Python\\Python311\\Lib\\site-packages\\statsmodels\\regression\\mixed_linear_model.py:2237: ConvergenceWarning: The MLE may be on the boundary of the parameter space.\n",
      "  warnings.warn(msg, ConvergenceWarning)\n"
     ]
    },
    {
     "name": "stdout",
     "output_type": "stream",
     "text": [
      "                                         Mixed Linear Model Regression Results\n",
      "========================================================================================================================\n",
      "Model:                                  MixedLM                      Dependent Variable:                      Correct   \n",
      "No. Observations:                       2978                         Method:                                  REML      \n",
      "No. Groups:                             54                           Scale:                                   0.1147    \n",
      "Min. group size:                        49                           Log-Likelihood:                          -1052.5504\n",
      "Max. group size:                        56                           Converged:                               Yes       \n",
      "Mean group size:                        55.1                                                                            \n",
      "------------------------------------------------------------------------------------------------------------------------\n",
      "                                                                              Coef.  Std.Err.   z    P>|z| [0.025 0.975]\n",
      "------------------------------------------------------------------------------------------------------------------------\n",
      "Intercept                                                                      0.835    0.019 44.761 0.000  0.798  0.871\n",
      "C(dimension)[T.3D]                                                            -0.005    0.022 -0.235 0.815 -0.048  0.038\n",
      "C(DiffType, Treatment(reference=\"Mirrored\"))[T.Equal]                          0.005    0.020  0.236 0.814 -0.034  0.044\n",
      "C(DiffType, Treatment(reference=\"Mirrored\"))[T.Structural]                    -0.019    0.026 -0.749 0.454 -0.070  0.031\n",
      "C(dimension)[T.3D]:C(DiffType, Treatment(reference=\"Mirrored\"))[T.Equal]       0.094    0.028  3.353 0.001  0.039  0.149\n",
      "C(dimension)[T.3D]:C(DiffType, Treatment(reference=\"Mirrored\"))[T.Structural]  0.034    0.037  0.943 0.346 -0.037  0.106\n",
      "Group Var                                                                      0.006    0.005                           \n",
      "========================================================================================================================\n",
      "\n",
      "                         Mixed Linear Model Regression Results\n",
      "=======================================================================================\n",
      "Model:                       MixedLM           Dependent Variable:           RT        \n",
      "No. Observations:            2978              Method:                       REML      \n",
      "No. Groups:                  54                Scale:                        14.4895   \n",
      "Min. group size:             49                Log-Likelihood:               -8307.0676\n",
      "Max. group size:             56                Converged:                    Yes       \n",
      "Mean group size:             55.1                                                      \n",
      "---------------------------------------------------------------------------------------\n",
      "                                             Coef.  Std.Err.   z    P>|z| [0.025 0.975]\n",
      "---------------------------------------------------------------------------------------\n",
      "Intercept                                     6.140    0.467 13.141 0.000  5.224  7.056\n",
      "C(dimension)[T.3D]                           -0.958    0.198 -4.842 0.000 -1.345 -0.570\n",
      "C(DiffType)[T.Mirrored]                       1.301    0.224  5.811 0.000  0.862  1.740\n",
      "C(DiffType)[T.Structural]                     1.895    0.273  6.942 0.000  1.360  2.431\n",
      "C(dimension)[T.3D]:C(DiffType)[T.Mirrored]   -0.046    0.315 -0.145 0.885 -0.664  0.573\n",
      "C(dimension)[T.3D]:C(DiffType)[T.Structural]  0.877    0.384  2.284 0.022  0.124  1.630\n",
      "Group Var                                    10.716    0.565                           \n",
      "=======================================================================================\n",
      "\n",
      "                                         Mixed Linear Model Regression Results\n",
      "========================================================================================================================\n",
      "Model:                                  MixedLM                      Dependent Variable:                      RT        \n",
      "No. Observations:                       2978                         Method:                                  REML      \n",
      "No. Groups:                             54                           Scale:                                   14.4895   \n",
      "Min. group size:                        49                           Log-Likelihood:                          -8307.0676\n",
      "Max. group size:                        56                           Converged:                               Yes       \n",
      "Mean group size:                        55.1                                                                            \n",
      "------------------------------------------------------------------------------------------------------------------------\n",
      "                                                                              Coef.  Std.Err.   z    P>|z| [0.025 0.975]\n",
      "------------------------------------------------------------------------------------------------------------------------\n",
      "Intercept                                                                      7.441    0.478 15.559 0.000  6.503  8.378\n",
      "C(dimension)[T.3D]                                                            -1.003    0.246 -4.083 0.000 -1.485 -0.522\n",
      "C(DiffType, Treatment(reference=\"Mirrored\"))[T.Equal]                         -1.301    0.224 -5.811 0.000 -1.740 -0.862\n",
      "C(DiffType, Treatment(reference=\"Mirrored\"))[T.Structural]                     0.595    0.291  2.040 0.041  0.023  1.166\n",
      "C(dimension)[T.3D]:C(DiffType, Treatment(reference=\"Mirrored\"))[T.Equal]       0.046    0.315  0.145 0.885 -0.573  0.664\n",
      "C(dimension)[T.3D]:C(DiffType, Treatment(reference=\"Mirrored\"))[T.Structural]  0.923    0.411  2.246 0.025  0.118  1.728\n",
      "Group Var                                                                     10.716    0.565                           \n",
      "========================================================================================================================\n",
      "\n"
     ]
    },
    {
     "name": "stderr",
     "output_type": "stream",
     "text": [
      "C:\\Users\\Stark\\AppData\\Local\\Programs\\Python\\Python311\\Lib\\site-packages\\statsmodels\\regression\\mixed_linear_model.py:2237: ConvergenceWarning: The MLE may be on the boundary of the parameter space.\n",
      "  warnings.warn(msg, ConvergenceWarning)\n"
     ]
    },
    {
     "name": "stdout",
     "output_type": "stream",
     "text": [
      "                         Mixed Linear Model Regression Results\n",
      "=======================================================================================\n",
      "Model:                   MixedLM       Dependent Variable:       Mean_fixation_duration\n",
      "No. Observations:        2978          Method:                   REML                  \n",
      "No. Groups:              54            Scale:                    0.0015                \n",
      "Min. group size:         49            Log-Likelihood:           5344.7865             \n",
      "Max. group size:         56            Converged:                Yes                   \n",
      "Mean group size:         55.1                                                          \n",
      "---------------------------------------------------------------------------------------\n",
      "                                             Coef.  Std.Err.   z    P>|z| [0.025 0.975]\n",
      "---------------------------------------------------------------------------------------\n",
      "Intercept                                     0.214    0.004 59.985 0.000  0.207  0.221\n",
      "C(dimension)[T.3D]                           -0.004    0.002 -2.122 0.034 -0.008 -0.000\n",
      "C(DiffType)[T.Mirrored]                       0.010    0.002  4.257 0.000  0.005  0.014\n",
      "C(DiffType)[T.Structural]                     0.004    0.003  1.603 0.109 -0.001  0.010\n",
      "C(dimension)[T.3D]:C(DiffType)[T.Mirrored]    0.001    0.003  0.238 0.812 -0.006  0.007\n",
      "C(dimension)[T.3D]:C(DiffType)[T.Structural]  0.011    0.004  2.736 0.006  0.003  0.018\n",
      "Group Var                                     0.001    0.003                           \n",
      "=======================================================================================\n",
      "\n"
     ]
    },
    {
     "name": "stderr",
     "output_type": "stream",
     "text": [
      "C:\\Users\\Stark\\AppData\\Local\\Programs\\Python\\Python311\\Lib\\site-packages\\statsmodels\\regression\\mixed_linear_model.py:2237: ConvergenceWarning: The MLE may be on the boundary of the parameter space.\n",
      "  warnings.warn(msg, ConvergenceWarning)\n"
     ]
    },
    {
     "name": "stdout",
     "output_type": "stream",
     "text": [
      "                                         Mixed Linear Model Regression Results\n",
      "========================================================================================================================\n",
      "Model:                              MixedLM                  Dependent Variable:                  Mean_fixation_duration\n",
      "No. Observations:                   2978                     Method:                              REML                  \n",
      "No. Groups:                         54                       Scale:                               0.0015                \n",
      "Min. group size:                    49                       Log-Likelihood:                      5344.7865             \n",
      "Max. group size:                    56                       Converged:                           Yes                   \n",
      "Mean group size:                    55.1                                                                                \n",
      "------------------------------------------------------------------------------------------------------------------------\n",
      "                                                                              Coef.  Std.Err.   z    P>|z| [0.025 0.975]\n",
      "------------------------------------------------------------------------------------------------------------------------\n",
      "Intercept                                                                      0.224    0.004 60.204 0.000  0.216  0.231\n",
      "C(dimension)[T.3D]                                                            -0.004    0.003 -1.401 0.161 -0.008  0.001\n",
      "C(DiffType, Treatment(reference=\"Mirrored\"))[T.Equal]                         -0.010    0.002 -4.257 0.000 -0.014 -0.005\n",
      "C(DiffType, Treatment(reference=\"Mirrored\"))[T.Structural]                    -0.005    0.003 -1.767 0.077 -0.011  0.001\n",
      "C(dimension)[T.3D]:C(DiffType, Treatment(reference=\"Mirrored\"))[T.Equal]      -0.001    0.003 -0.238 0.812 -0.007  0.006\n",
      "C(dimension)[T.3D]:C(DiffType, Treatment(reference=\"Mirrored\"))[T.Structural]  0.010    0.004  2.374 0.018  0.002  0.018\n",
      "Group Var                                                                      0.001    0.003                           \n",
      "========================================================================================================================\n",
      "\n",
      "                         Mixed Linear Model Regression Results\n",
      "=======================================================================================\n",
      "Model:                     MixedLM        Dependent Variable:        Mean_fixation_rate\n",
      "No. Observations:          2978           Method:                    REML              \n",
      "No. Groups:                54             Scale:                     0.1974            \n",
      "Min. group size:           49             Log-Likelihood:            -1903.6572        \n",
      "Max. group size:           56             Converged:                 Yes               \n",
      "Mean group size:           55.1                                                        \n",
      "---------------------------------------------------------------------------------------\n",
      "                                             Coef.  Std.Err.   z    P>|z| [0.025 0.975]\n",
      "---------------------------------------------------------------------------------------\n",
      "Intercept                                     2.278    0.039 58.011 0.000  2.201  2.355\n",
      "C(dimension)[T.3D]                            0.029    0.023  1.275 0.202 -0.016  0.075\n",
      "C(DiffType)[T.Mirrored]                      -0.058    0.026 -2.221 0.026 -0.109 -0.007\n",
      "C(DiffType)[T.Structural]                    -0.004    0.032 -0.140 0.889 -0.067  0.058\n",
      "C(dimension)[T.3D]:C(DiffType)[T.Mirrored]    0.066    0.037  1.800 0.072 -0.006  0.138\n",
      "C(dimension)[T.3D]:C(DiffType)[T.Structural]  0.014    0.045  0.314 0.754 -0.074  0.102\n",
      "Group Var                                     0.069    0.032                           \n",
      "=======================================================================================\n",
      "\n",
      "                                         Mixed Linear Model Regression Results\n",
      "========================================================================================================================\n",
      "Model:                                MixedLM                   Dependent Variable:                   Mean_fixation_rate\n",
      "No. Observations:                     2978                      Method:                               REML              \n",
      "No. Groups:                           54                        Scale:                                0.1974            \n",
      "Min. group size:                      49                        Log-Likelihood:                       -1903.6572        \n",
      "Max. group size:                      56                        Converged:                            Yes               \n",
      "Mean group size:                      55.1                                                                              \n",
      "------------------------------------------------------------------------------------------------------------------------\n",
      "                                                                              Coef.  Std.Err.   z    P>|z| [0.025 0.975]\n",
      "------------------------------------------------------------------------------------------------------------------------\n",
      "Intercept                                                                      2.220    0.041 54.100 0.000  2.139  2.300\n",
      "C(dimension)[T.3D]                                                             0.096    0.029  3.336 0.001  0.039  0.152\n",
      "C(DiffType, Treatment(reference=\"Mirrored\"))[T.Equal]                          0.058    0.026  2.221 0.026  0.007  0.109\n",
      "C(DiffType, Treatment(reference=\"Mirrored\"))[T.Structural]                     0.054    0.034  1.574 0.115 -0.013  0.120\n",
      "C(dimension)[T.3D]:C(DiffType, Treatment(reference=\"Mirrored\"))[T.Equal]      -0.066    0.037 -1.800 0.072 -0.138  0.006\n",
      "C(dimension)[T.3D]:C(DiffType, Treatment(reference=\"Mirrored\"))[T.Structural] -0.052    0.048 -1.089 0.276 -0.146  0.042\n",
      "Group Var                                                                      0.069    0.032                           \n",
      "========================================================================================================================\n",
      "\n"
     ]
    },
    {
     "name": "stderr",
     "output_type": "stream",
     "text": [
      "C:\\Users\\Stark\\AppData\\Local\\Programs\\Python\\Python311\\Lib\\site-packages\\statsmodels\\regression\\mixed_linear_model.py:2237: ConvergenceWarning: The MLE may be on the boundary of the parameter space.\n",
      "  warnings.warn(msg, ConvergenceWarning)\n"
     ]
    },
    {
     "name": "stdout",
     "output_type": "stream",
     "text": [
      "                        Mixed Linear Model Regression Results\n",
      "======================================================================================\n",
      "Model:               MixedLM   Dependent Variable:   Mean_regressive_fixation_duration\n",
      "No. Observations:    2978      Method:               REML                             \n",
      "No. Groups:          54        Scale:                0.0131                           \n",
      "Min. group size:     49        Log-Likelihood:       2150.0935                        \n",
      "Max. group size:     56        Converged:            Yes                              \n",
      "Mean group size:     55.1                                                             \n",
      "--------------------------------------------------------------------------------------\n",
      "                                             Coef. Std.Err.   z    P>|z| [0.025 0.975]\n",
      "--------------------------------------------------------------------------------------\n",
      "Intercept                                    0.136    0.007 20.003 0.000  0.123  0.150\n",
      "C(dimension)[T.3D]                           0.030    0.006  4.974 0.000  0.018  0.041\n",
      "C(DiffType)[T.Mirrored]                      0.018    0.007  2.659 0.008  0.005  0.031\n",
      "C(DiffType)[T.Structural]                    0.011    0.008  1.343 0.179 -0.005  0.027\n",
      "C(dimension)[T.3D]:C(DiffType)[T.Mirrored]   0.004    0.009  0.395 0.693 -0.015  0.022\n",
      "C(dimension)[T.3D]:C(DiffType)[T.Structural] 0.017    0.012  1.500 0.133 -0.005  0.040\n",
      "Group Var                                    0.002    0.003                           \n",
      "======================================================================================\n",
      "\n"
     ]
    },
    {
     "name": "stderr",
     "output_type": "stream",
     "text": [
      "C:\\Users\\Stark\\AppData\\Local\\Programs\\Python\\Python311\\Lib\\site-packages\\statsmodels\\regression\\mixed_linear_model.py:2237: ConvergenceWarning: The MLE may be on the boundary of the parameter space.\n",
      "  warnings.warn(msg, ConvergenceWarning)\n"
     ]
    },
    {
     "name": "stdout",
     "output_type": "stream",
     "text": [
      "                                         Mixed Linear Model Regression Results\n",
      "========================================================================================================================\n",
      "Model:                           MixedLM              Dependent Variable:              Mean_regressive_fixation_duration\n",
      "No. Observations:                2978                 Method:                          REML                             \n",
      "No. Groups:                      54                   Scale:                           0.0131                           \n",
      "Min. group size:                 49                   Log-Likelihood:                  2150.0935                        \n",
      "Max. group size:                 56                   Converged:                       Yes                              \n",
      "Mean group size:                 55.1                                                                                   \n",
      "------------------------------------------------------------------------------------------------------------------------\n",
      "                                                                              Coef.  Std.Err.   z    P>|z| [0.025 0.975]\n",
      "------------------------------------------------------------------------------------------------------------------------\n",
      "Intercept                                                                      0.154    0.007 20.633 0.000  0.140  0.169\n",
      "C(dimension)[T.3D]                                                             0.033    0.007  4.509 0.000  0.019  0.048\n",
      "C(DiffType, Treatment(reference=\"Mirrored\"))[T.Equal]                         -0.018    0.007 -2.659 0.008 -0.031 -0.005\n",
      "C(DiffType, Treatment(reference=\"Mirrored\"))[T.Structural]                    -0.007    0.009 -0.784 0.433 -0.024  0.010\n",
      "C(dimension)[T.3D]:C(DiffType, Treatment(reference=\"Mirrored\"))[T.Equal]      -0.004    0.009 -0.395 0.693 -0.022  0.015\n",
      "C(dimension)[T.3D]:C(DiffType, Treatment(reference=\"Mirrored\"))[T.Structural]  0.014    0.012  1.100 0.271 -0.011  0.038\n",
      "Group Var                                                                      0.002    0.003                           \n",
      "========================================================================================================================\n",
      "\n"
     ]
    },
    {
     "name": "stderr",
     "output_type": "stream",
     "text": [
      "C:\\Users\\Stark\\AppData\\Local\\Programs\\Python\\Python311\\Lib\\site-packages\\statsmodels\\base\\model.py:604: ConvergenceWarning: Maximum Likelihood optimization failed to converge. Check mle_retvals\n",
      "  warnings.warn(\"Maximum Likelihood optimization failed to \"\n",
      "C:\\Users\\Stark\\AppData\\Local\\Programs\\Python\\Python311\\Lib\\site-packages\\statsmodels\\regression\\mixed_linear_model.py:2200: ConvergenceWarning: Retrying MixedLM optimization with lbfgs\n",
      "  warnings.warn(\n",
      "C:\\Users\\Stark\\AppData\\Local\\Programs\\Python\\Python311\\Lib\\site-packages\\statsmodels\\regression\\mixed_linear_model.py:2237: ConvergenceWarning: The MLE may be on the boundary of the parameter space.\n",
      "  warnings.warn(msg, ConvergenceWarning)\n"
     ]
    },
    {
     "name": "stdout",
     "output_type": "stream",
     "text": [
      "                         Mixed Linear Model Regression Results\n",
      "=======================================================================================\n",
      "Model:              MixedLM Dependent Variable: Equal_fixation_duration_between_figures\n",
      "No. Observations:   2978    Method:             REML                                   \n",
      "No. Groups:         54      Scale:              0.0396                                 \n",
      "Min. group size:    49      Log-Likelihood:     511.0462                               \n",
      "Max. group size:    56      Converged:          Yes                                    \n",
      "Mean group size:    55.1                                                               \n",
      "---------------------------------------------------------------------------------------\n",
      "                                             Coef.  Std.Err.   z    P>|z| [0.025 0.975]\n",
      "---------------------------------------------------------------------------------------\n",
      "Intercept                                     0.703    0.011 61.679 0.000  0.681  0.726\n",
      "C(dimension)[T.3D]                            0.002    0.010  0.176 0.861 -0.018  0.022\n",
      "C(DiffType)[T.Mirrored]                      -0.006    0.012 -0.539 0.590 -0.029  0.017\n",
      "C(DiffType)[T.Structural]                     0.027    0.014  1.868 0.062 -0.001  0.055\n",
      "C(dimension)[T.3D]:C(DiffType)[T.Mirrored]    0.016    0.016  0.993 0.321 -0.016  0.049\n",
      "C(dimension)[T.3D]:C(DiffType)[T.Structural]  0.051    0.020  2.541 0.011  0.012  0.090\n",
      "Group Var                                     0.004    0.005                           \n",
      "=======================================================================================\n",
      "\n"
     ]
    },
    {
     "name": "stderr",
     "output_type": "stream",
     "text": [
      "C:\\Users\\Stark\\AppData\\Local\\Programs\\Python\\Python311\\Lib\\site-packages\\statsmodels\\base\\model.py:604: ConvergenceWarning: Maximum Likelihood optimization failed to converge. Check mle_retvals\n",
      "  warnings.warn(\"Maximum Likelihood optimization failed to \"\n",
      "C:\\Users\\Stark\\AppData\\Local\\Programs\\Python\\Python311\\Lib\\site-packages\\statsmodels\\regression\\mixed_linear_model.py:2200: ConvergenceWarning: Retrying MixedLM optimization with lbfgs\n",
      "  warnings.warn(\n",
      "C:\\Users\\Stark\\AppData\\Local\\Programs\\Python\\Python311\\Lib\\site-packages\\statsmodels\\regression\\mixed_linear_model.py:2237: ConvergenceWarning: The MLE may be on the boundary of the parameter space.\n",
      "  warnings.warn(msg, ConvergenceWarning)\n"
     ]
    },
    {
     "name": "stdout",
     "output_type": "stream",
     "text": [
      "                                         Mixed Linear Model Regression Results\n",
      "========================================================================================================================\n",
      "Model:                         MixedLM            Dependent Variable:            Equal_fixation_duration_between_figures\n",
      "No. Observations:              2978               Method:                        REML                                   \n",
      "No. Groups:                    54                 Scale:                         0.0396                                 \n",
      "Min. group size:               49                 Log-Likelihood:                511.0462                               \n",
      "Max. group size:               56                 Converged:                     Yes                                    \n",
      "Mean group size:               55.1                                                                                     \n",
      "------------------------------------------------------------------------------------------------------------------------\n",
      "                                                                              Coef.  Std.Err.   z    P>|z| [0.025 0.975]\n",
      "------------------------------------------------------------------------------------------------------------------------\n",
      "Intercept                                                                      0.697    0.013 55.361 0.000  0.672  0.722\n",
      "C(dimension)[T.3D]                                                             0.018    0.013  1.416 0.157 -0.007  0.043\n",
      "C(DiffType, Treatment(reference=\"Mirrored\"))[T.Equal]                          0.006    0.012  0.539 0.590 -0.017  0.029\n",
      "C(DiffType, Treatment(reference=\"Mirrored\"))[T.Structural]                     0.033    0.015  2.164 0.030  0.003  0.063\n",
      "C(dimension)[T.3D]:C(DiffType, Treatment(reference=\"Mirrored\"))[T.Equal]      -0.016    0.016 -0.993 0.321 -0.049  0.016\n",
      "C(dimension)[T.3D]:C(DiffType, Treatment(reference=\"Mirrored\"))[T.Structural]  0.035    0.021  1.613 0.107 -0.007  0.077\n",
      "Group Var                                                                      0.004    0.005                           \n",
      "========================================================================================================================\n",
      "\n"
     ]
    },
    {
     "name": "stderr",
     "output_type": "stream",
     "text": [
      "C:\\Users\\Stark\\AppData\\Local\\Programs\\Python\\Python311\\Lib\\site-packages\\statsmodels\\regression\\mixed_linear_model.py:2237: ConvergenceWarning: The MLE may be on the boundary of the parameter space.\n",
      "  warnings.warn(msg, ConvergenceWarning)\n"
     ]
    },
    {
     "name": "stdout",
     "output_type": "stream",
     "text": [
      "                         Mixed Linear Model Regression Results\n",
      "=======================================================================================\n",
      "Model:              MixedLM  Dependent Variable:  Equal_fixation_duration_within_figure\n",
      "No. Observations:   2978     Method:              REML                                 \n",
      "No. Groups:         54       Scale:               0.0605                               \n",
      "Min. group size:    49       Log-Likelihood:      -101.3921                            \n",
      "Max. group size:    56       Converged:           Yes                                  \n",
      "Mean group size:    55.1                                                               \n",
      "---------------------------------------------------------------------------------------\n",
      "                                             Coef.  Std.Err.   z    P>|z| [0.025 0.975]\n",
      "---------------------------------------------------------------------------------------\n",
      "Intercept                                     0.161    0.012 13.814 0.000  0.138  0.184\n",
      "C(dimension)[T.3D]                            0.296    0.013 23.177 0.000  0.271  0.321\n",
      "C(DiffType)[T.Mirrored]                       0.063    0.014  4.330 0.000  0.034  0.091\n",
      "C(DiffType)[T.Structural]                     0.037    0.018  2.075 0.038  0.002  0.071\n",
      "C(dimension)[T.3D]:C(DiffType)[T.Mirrored]   -0.096    0.020 -4.691 0.000 -0.136 -0.056\n",
      "C(dimension)[T.3D]:C(DiffType)[T.Structural] -0.021    0.025 -0.865 0.387 -0.070  0.027\n",
      "Group Var                                     0.003    0.003                           \n",
      "=======================================================================================\n",
      "\n"
     ]
    },
    {
     "name": "stderr",
     "output_type": "stream",
     "text": [
      "C:\\Users\\Stark\\AppData\\Local\\Programs\\Python\\Python311\\Lib\\site-packages\\statsmodels\\regression\\mixed_linear_model.py:2237: ConvergenceWarning: The MLE may be on the boundary of the parameter space.\n",
      "  warnings.warn(msg, ConvergenceWarning)\n"
     ]
    },
    {
     "name": "stdout",
     "output_type": "stream",
     "text": [
      "                                         Mixed Linear Model Regression Results\n",
      "========================================================================================================================\n",
      "Model:                         MixedLM             Dependent Variable:             Equal_fixation_duration_within_figure\n",
      "No. Observations:              2978                Method:                         REML                                 \n",
      "No. Groups:                    54                  Scale:                          0.0605                               \n",
      "Min. group size:               49                  Log-Likelihood:                 -101.3921                            \n",
      "Max. group size:               56                  Converged:                      Yes                                  \n",
      "Mean group size:               55.1                                                                                     \n",
      "------------------------------------------------------------------------------------------------------------------------\n",
      "                                                                              Coef.  Std.Err.   z    P>|z| [0.025 0.975]\n",
      "------------------------------------------------------------------------------------------------------------------------\n",
      "Intercept                                                                      0.224    0.013 16.699 0.000  0.198  0.250\n",
      "C(dimension)[T.3D]                                                             0.201    0.016 12.631 0.000  0.169  0.232\n",
      "C(DiffType, Treatment(reference=\"Mirrored\"))[T.Equal]                         -0.063    0.014 -4.330 0.000 -0.091 -0.034\n",
      "C(DiffType, Treatment(reference=\"Mirrored\"))[T.Structural]                    -0.026    0.019 -1.381 0.167 -0.063  0.011\n",
      "C(dimension)[T.3D]:C(DiffType, Treatment(reference=\"Mirrored\"))[T.Equal]       0.096    0.020  4.691 0.000  0.056  0.136\n",
      "C(dimension)[T.3D]:C(DiffType, Treatment(reference=\"Mirrored\"))[T.Structural]  0.074    0.027  2.794 0.005  0.022  0.126\n",
      "Group Var                                                                      0.003    0.003                           \n",
      "========================================================================================================================\n",
      "\n",
      "                         Mixed Linear Model Regression Results\n",
      "=======================================================================================\n",
      "Model:                     MixedLM          Dependent Variable:          Strategy_ratio\n",
      "No. Observations:          2978             Method:                      REML          \n",
      "No. Groups:                54               Scale:                       2.2234        \n",
      "Min. group size:           49               Log-Likelihood:              -5479.2628    \n",
      "Max. group size:           56               Converged:                   Yes           \n",
      "Mean group size:           55.1                                                        \n",
      "---------------------------------------------------------------------------------------\n",
      "                                             Coef.  Std.Err.   z    P>|z| [0.025 0.975]\n",
      "---------------------------------------------------------------------------------------\n",
      "Intercept                                     1.391    0.093 15.017 0.000  1.209  1.572\n",
      "C(dimension)[T.3D]                           -0.670    0.077 -8.647 0.000 -0.822 -0.518\n",
      "C(DiffType)[T.Mirrored]                       0.080    0.088  0.913 0.361 -0.092  0.252\n",
      "C(DiffType)[T.Structural]                     0.457    0.107  4.273 0.000  0.247  0.667\n",
      "C(dimension)[T.3D]:C(DiffType)[T.Mirrored]   -0.015    0.124 -0.123 0.902 -0.257  0.227\n",
      "C(dimension)[T.3D]:C(DiffType)[T.Structural] -0.304    0.150 -2.020 0.043 -0.599 -0.009\n",
      "Group Var                                     0.299    0.045                           \n",
      "=======================================================================================\n",
      "\n",
      "                                         Mixed Linear Model Regression Results\n",
      "========================================================================================================================\n",
      "Model:                                MixedLM                     Dependent Variable:                     Strategy_ratio\n",
      "No. Observations:                     2978                        Method:                                 REML          \n",
      "No. Groups:                           54                          Scale:                                  2.2234        \n",
      "Min. group size:                      49                          Log-Likelihood:                         -5479.2628    \n",
      "Max. group size:                      56                          Converged:                              Yes           \n",
      "Mean group size:                      55.1                                                                              \n",
      "------------------------------------------------------------------------------------------------------------------------\n",
      "                                                                              Coef.  Std.Err.   z    P>|z| [0.025 0.975]\n",
      "------------------------------------------------------------------------------------------------------------------------\n",
      "Intercept                                                                      1.471    0.101 14.581 0.000  1.273  1.668\n",
      "C(dimension)[T.3D]                                                            -0.685    0.096 -7.117 0.000 -0.874 -0.496\n",
      "C(DiffType, Treatment(reference=\"Mirrored\"))[T.Equal]                         -0.080    0.088 -0.913 0.361 -0.252  0.092\n",
      "C(DiffType, Treatment(reference=\"Mirrored\"))[T.Structural]                     0.377    0.114  3.302 0.001  0.153  0.601\n",
      "C(dimension)[T.3D]:C(DiffType, Treatment(reference=\"Mirrored\"))[T.Equal]       0.015    0.124  0.123 0.902 -0.227  0.257\n",
      "C(dimension)[T.3D]:C(DiffType, Treatment(reference=\"Mirrored\"))[T.Structural] -0.289    0.161 -1.794 0.073 -0.604  0.027\n",
      "Group Var                                                                      0.299    0.045                           \n",
      "========================================================================================================================\n",
      "\n",
      "                          Mixed Linear Model Regression Results\n",
      "==========================================================================================\n",
      "Model:                     MixedLM        Dependent Variable:        Mean_saccade_velocity\n",
      "No. Observations:          2978           Method:                    REML                 \n",
      "No. Groups:                54             Scale:                     867.4115             \n",
      "Min. group size:           49             Log-Likelihood:            -14376.8015          \n",
      "Max. group size:           56             Converged:                 Yes                  \n",
      "Mean group size:           55.1                                                           \n",
      "------------------------------------------------------------------------------------------\n",
      "                                              Coef.  Std.Err.   z    P>|z|  [0.025  0.975]\n",
      "------------------------------------------------------------------------------------------\n",
      "Intercept                                    240.285    2.983 80.543 0.000 234.438 246.132\n",
      "C(dimension)[T.3D]                            10.679    1.530  6.979 0.000   7.680  13.678\n",
      "C(DiffType)[T.Mirrored]                       -0.317    1.732 -0.183 0.855  -3.711   3.078\n",
      "C(DiffType)[T.Structural]                     -5.450    2.112 -2.580 0.010  -9.591  -1.310\n",
      "C(dimension)[T.3D]:C(DiffType)[T.Mirrored]    -3.398    2.441 -1.392 0.164  -8.181   1.386\n",
      "C(dimension)[T.3D]:C(DiffType)[T.Structural]   9.491    2.971  3.194 0.001   3.668  15.315\n",
      "Group Var                                    416.439    2.876                             \n",
      "==========================================================================================\n",
      "\n",
      "                                           Mixed Linear Model Regression Results\n",
      "===========================================================================================================================\n",
      "Model:                                MixedLM                   Dependent Variable:                   Mean_saccade_velocity\n",
      "No. Observations:                     2978                      Method:                               REML                 \n",
      "No. Groups:                           54                        Scale:                                867.4115             \n",
      "Min. group size:                      49                        Log-Likelihood:                       -14376.8015          \n",
      "Max. group size:                      56                        Converged:                            Yes                  \n",
      "Mean group size:                      55.1                                                                                 \n",
      "---------------------------------------------------------------------------------------------------------------------------\n",
      "                                                                               Coef.  Std.Err.   z    P>|z|  [0.025  0.975]\n",
      "---------------------------------------------------------------------------------------------------------------------------\n",
      "Intercept                                                                     239.968    3.086 77.760 0.000 233.920 246.017\n",
      "C(dimension)[T.3D]                                                              7.281    1.901  3.830 0.000   3.555  11.008\n",
      "C(DiffType, Treatment(reference=\"Mirrored\"))[T.Equal]                           0.317    1.732  0.183 0.855  -3.078   3.711\n",
      "C(DiffType, Treatment(reference=\"Mirrored\"))[T.Structural]                     -5.133    2.255 -2.276 0.023  -9.554  -0.713\n",
      "C(dimension)[T.3D]:C(DiffType, Treatment(reference=\"Mirrored\"))[T.Equal]        3.398    2.441  1.392 0.164  -1.386   8.181\n",
      "C(dimension)[T.3D]:C(DiffType, Treatment(reference=\"Mirrored\"))[T.Structural]  12.889    3.179  4.055 0.000   6.659  19.119\n",
      "Group Var                                                                     416.439    2.876                             \n",
      "===========================================================================================================================\n",
      "\n",
      "                         Mixed Linear Model Regression Results\n",
      "=======================================================================================\n",
      "Model:                    MixedLM         Dependent Variable:         Mean_saccade_rate\n",
      "No. Observations:         2978            Method:                     REML             \n",
      "No. Groups:               54              Scale:                      0.2685           \n",
      "Min. group size:          49              Log-Likelihood:             -2378.8778       \n",
      "Max. group size:          56              Converged:                  Yes              \n",
      "Mean group size:          55.1                                                         \n",
      "---------------------------------------------------------------------------------------\n",
      "                                             Coef.  Std.Err.   z    P>|z| [0.025 0.975]\n",
      "---------------------------------------------------------------------------------------\n",
      "Intercept                                     2.057    0.062 33.375 0.000  1.936  2.178\n",
      "C(dimension)[T.3D]                            0.176    0.027  6.554 0.000  0.124  0.229\n",
      "C(DiffType)[T.Mirrored]                      -0.106    0.030 -3.482 0.000 -0.166 -0.046\n",
      "C(DiffType)[T.Structural]                    -0.054    0.037 -1.448 0.148 -0.127  0.019\n",
      "C(dimension)[T.3D]:C(DiffType)[T.Mirrored]    0.009    0.043  0.200 0.841 -0.076  0.093\n",
      "C(dimension)[T.3D]:C(DiffType)[T.Structural] -0.213    0.052 -4.083 0.000 -0.316 -0.111\n",
      "Group Var                                     0.185    0.072                           \n",
      "=======================================================================================\n",
      "\n",
      "                                         Mixed Linear Model Regression Results\n",
      "========================================================================================================================\n",
      "Model:                               MixedLM                    Dependent Variable:                    Mean_saccade_rate\n",
      "No. Observations:                    2978                       Method:                                REML             \n",
      "No. Groups:                          54                         Scale:                                 0.2685           \n",
      "Min. group size:                     49                         Log-Likelihood:                        -2378.8778       \n",
      "Max. group size:                     56                         Converged:                             Yes              \n",
      "Mean group size:                     55.1                                                                               \n",
      "------------------------------------------------------------------------------------------------------------------------\n",
      "                                                                              Coef.  Std.Err.   z    P>|z| [0.025 0.975]\n",
      "------------------------------------------------------------------------------------------------------------------------\n",
      "Intercept                                                                      1.951    0.063 30.878 0.000  1.827  2.075\n",
      "C(dimension)[T.3D]                                                             0.185    0.033  5.532 0.000  0.119  0.251\n",
      "C(DiffType, Treatment(reference=\"Mirrored\"))[T.Equal]                          0.106    0.030  3.482 0.000  0.046  0.166\n",
      "C(DiffType, Treatment(reference=\"Mirrored\"))[T.Structural]                     0.052    0.040  1.318 0.188 -0.025  0.130\n",
      "C(dimension)[T.3D]:C(DiffType, Treatment(reference=\"Mirrored\"))[T.Equal]      -0.009    0.043 -0.200 0.841 -0.093  0.076\n",
      "C(dimension)[T.3D]:C(DiffType, Treatment(reference=\"Mirrored\"))[T.Structural] -0.222    0.056 -3.971 0.000 -0.332 -0.112\n",
      "Group Var                                                                      0.185    0.072                           \n",
      "========================================================================================================================\n",
      "\n"
     ]
    },
    {
     "name": "stderr",
     "output_type": "stream",
     "text": [
      "C:\\Users\\Stark\\AppData\\Local\\Programs\\Python\\Python311\\Lib\\site-packages\\statsmodels\\regression\\mixed_linear_model.py:2237: ConvergenceWarning: The MLE may be on the boundary of the parameter space.\n",
      "  warnings.warn(msg, ConvergenceWarning)\n"
     ]
    },
    {
     "name": "stdout",
     "output_type": "stream",
     "text": [
      "                         Mixed Linear Model Regression Results\n",
      "========================================================================================\n",
      "Model:                     MixedLM        Dependent Variable:        Mean_pupil_diameter\n",
      "No. Observations:          2978           Method:                    REML               \n",
      "No. Groups:                54             Scale:                     0.0190             \n",
      "Min. group size:           49             Log-Likelihood:            1566.8814          \n",
      "Max. group size:           56             Converged:                 Yes                \n",
      "Mean group size:           55.1                                                         \n",
      "----------------------------------------------------------------------------------------\n",
      "                                             Coef.  Std.Err.    z    P>|z| [0.025 0.975]\n",
      "----------------------------------------------------------------------------------------\n",
      "Intercept                                     0.031    0.014   2.215 0.027  0.004  0.058\n",
      "C(dimension)[T.3D]                           -0.126    0.007 -17.625 0.000 -0.140 -0.112\n",
      "C(DiffType)[T.Mirrored]                       0.007    0.008   0.842 0.400 -0.009  0.023\n",
      "C(DiffType)[T.Structural]                     0.041    0.010   4.134 0.000  0.021  0.060\n",
      "C(dimension)[T.3D]:C(DiffType)[T.Mirrored]   -0.023    0.011  -1.996 0.046 -0.045 -0.000\n",
      "C(dimension)[T.3D]:C(DiffType)[T.Structural] -0.015    0.014  -1.080 0.280 -0.042  0.012\n",
      "Group Var                                     0.009    0.013                            \n",
      "========================================================================================\n",
      "\n"
     ]
    },
    {
     "name": "stderr",
     "output_type": "stream",
     "text": [
      "C:\\Users\\Stark\\AppData\\Local\\Programs\\Python\\Python311\\Lib\\site-packages\\statsmodels\\regression\\mixed_linear_model.py:2237: ConvergenceWarning: The MLE may be on the boundary of the parameter space.\n",
      "  warnings.warn(msg, ConvergenceWarning)\n"
     ]
    },
    {
     "name": "stdout",
     "output_type": "stream",
     "text": [
      "                                          Mixed Linear Model Regression Results\n",
      "=========================================================================================================================\n",
      "Model:                                MixedLM                   Dependent Variable:                   Mean_pupil_diameter\n",
      "No. Observations:                     2978                      Method:                               REML               \n",
      "No. Groups:                           54                        Scale:                                0.0190             \n",
      "Min. group size:                      49                        Log-Likelihood:                       1566.8814          \n",
      "Max. group size:                      56                        Converged:                            Yes                \n",
      "Mean group size:                      55.1                                                                               \n",
      "-------------------------------------------------------------------------------------------------------------------------\n",
      "                                                                              Coef.  Std.Err.    z    P>|z| [0.025 0.975]\n",
      "-------------------------------------------------------------------------------------------------------------------------\n",
      "Intercept                                                                      0.038    0.014   2.617 0.009  0.009  0.066\n",
      "C(dimension)[T.3D]                                                            -0.149    0.009 -16.746 0.000 -0.166 -0.132\n",
      "C(DiffType, Treatment(reference=\"Mirrored\"))[T.Equal]                         -0.007    0.008  -0.842 0.400 -0.023  0.009\n",
      "C(DiffType, Treatment(reference=\"Mirrored\"))[T.Structural]                     0.034    0.011   3.226 0.001  0.013  0.055\n",
      "C(dimension)[T.3D]:C(DiffType, Treatment(reference=\"Mirrored\"))[T.Equal]       0.023    0.011   1.996 0.046  0.000  0.045\n",
      "C(dimension)[T.3D]:C(DiffType, Treatment(reference=\"Mirrored\"))[T.Structural]  0.008    0.015   0.523 0.601 -0.021  0.037\n",
      "Group Var                                                                      0.009    0.013                            \n",
      "=========================================================================================================================\n",
      "\n"
     ]
    },
    {
     "name": "stderr",
     "output_type": "stream",
     "text": [
      "C:\\Users\\Stark\\AppData\\Local\\Programs\\Python\\Python311\\Lib\\site-packages\\statsmodels\\regression\\mixed_linear_model.py:2237: ConvergenceWarning: The MLE may be on the boundary of the parameter space.\n",
      "  warnings.warn(msg, ConvergenceWarning)\n"
     ]
    },
    {
     "name": "stdout",
     "output_type": "stream",
     "text": [
      "                         Mixed Linear Model Regression Results\n",
      "=======================================================================================\n",
      "Model:                   MixedLM      Dependent Variable:      Pupil_diameter_amplitude\n",
      "No. Observations:        2978         Method:                  REML                    \n",
      "No. Groups:              54           Scale:                   0.0122                  \n",
      "Min. group size:         49           Log-Likelihood:          2219.1761               \n",
      "Max. group size:         56           Converged:               Yes                     \n",
      "Mean group size:         55.1                                                          \n",
      "---------------------------------------------------------------------------------------\n",
      "                                             Coef.  Std.Err.   z    P>|z| [0.025 0.975]\n",
      "---------------------------------------------------------------------------------------\n",
      "Intercept                                     0.315    0.013 23.350 0.000  0.289  0.342\n",
      "C(dimension)[T.3D]                            0.104    0.006 18.156 0.000  0.093  0.115\n",
      "C(DiffType)[T.Mirrored]                      -0.000    0.006 -0.074 0.941 -0.013  0.012\n",
      "C(DiffType)[T.Structural]                     0.001    0.008  0.130 0.897 -0.014  0.017\n",
      "C(dimension)[T.3D]:C(DiffType)[T.Mirrored]   -0.008    0.009 -0.892 0.372 -0.026  0.010\n",
      "C(dimension)[T.3D]:C(DiffType)[T.Structural] -0.001    0.011 -0.101 0.920 -0.023  0.021\n",
      "Group Var                                     0.009    0.016                           \n",
      "=======================================================================================\n",
      "\n"
     ]
    },
    {
     "name": "stderr",
     "output_type": "stream",
     "text": [
      "C:\\Users\\Stark\\AppData\\Local\\Programs\\Python\\Python311\\Lib\\site-packages\\statsmodels\\regression\\mixed_linear_model.py:2237: ConvergenceWarning: The MLE may be on the boundary of the parameter space.\n",
      "  warnings.warn(msg, ConvergenceWarning)\n"
     ]
    },
    {
     "name": "stdout",
     "output_type": "stream",
     "text": [
      "                                         Mixed Linear Model Regression Results\n",
      "=======================================================================================================================\n",
      "Model:                             MixedLM                 Dependent Variable:                 Pupil_diameter_amplitude\n",
      "No. Observations:                  2978                    Method:                             REML                    \n",
      "No. Groups:                        54                      Scale:                              0.0122                  \n",
      "Min. group size:                   49                      Log-Likelihood:                     2219.1761               \n",
      "Max. group size:                   56                      Converged:                          Yes                     \n",
      "Mean group size:                   55.1                                                                                \n",
      "-----------------------------------------------------------------------------------------------------------------------\n",
      "                                                                              Coef. Std.Err.   z    P>|z| [0.025 0.975]\n",
      "-----------------------------------------------------------------------------------------------------------------------\n",
      "Intercept                                                                     0.315    0.014 22.775 0.000  0.288  0.342\n",
      "C(dimension)[T.3D]                                                            0.096    0.007 13.467 0.000  0.082  0.110\n",
      "C(DiffType, Treatment(reference=\"Mirrored\"))[T.Equal]                         0.000    0.006  0.074 0.941 -0.012  0.013\n",
      "C(DiffType, Treatment(reference=\"Mirrored\"))[T.Structural]                    0.002    0.008  0.178 0.859 -0.015  0.018\n",
      "C(dimension)[T.3D]:C(DiffType, Treatment(reference=\"Mirrored\"))[T.Equal]      0.008    0.009  0.892 0.372 -0.010  0.026\n",
      "C(dimension)[T.3D]:C(DiffType, Treatment(reference=\"Mirrored\"))[T.Structural] 0.007    0.012  0.591 0.555 -0.016  0.030\n",
      "Group Var                                                                     0.009    0.016                           \n",
      "=======================================================================================================================\n",
      "\n",
      "                         Mixed Linear Model Regression Results\n",
      "========================================================================================\n",
      "Model:                   MixedLM       Dependent Variable:       Mean_distance_to_figure\n",
      "No. Observations:        2978          Method:                   REML                   \n",
      "No. Groups:              54            Scale:                    7.9409                 \n",
      "Min. group size:         49            Log-Likelihood:           -7482.8000             \n",
      "Max. group size:         56            Converged:                Yes                    \n",
      "Mean group size:         55.1                                                           \n",
      "----------------------------------------------------------------------------------------\n",
      "                                             Coef.  Std.Err.    z    P>|z| [0.025 0.975]\n",
      "----------------------------------------------------------------------------------------\n",
      "Intercept                                    88.575    1.240  71.425 0.000 86.144 91.005\n",
      "C(dimension)[T.3D]                           -2.028    0.146 -13.850 0.000 -2.315 -1.741\n",
      "C(DiffType)[T.Mirrored]                       0.072    0.166   0.434 0.665 -0.253  0.397\n",
      "C(DiffType)[T.Structural]                    -0.033    0.202  -0.163 0.871 -0.429  0.363\n",
      "C(dimension)[T.3D]:C(DiffType)[T.Mirrored]    0.008    0.234   0.034 0.973 -0.450  0.466\n",
      "C(dimension)[T.3D]:C(DiffType)[T.Structural]  0.083    0.284   0.293 0.769 -0.474  0.641\n",
      "Group Var                                    82.458    5.742                            \n",
      "========================================================================================\n",
      "\n",
      "                                          Mixed Linear Model Regression Results\n",
      "=========================================================================================================================\n",
      "Model:                              MixedLM                  Dependent Variable:                  Mean_distance_to_figure\n",
      "No. Observations:                   2978                     Method:                              REML                   \n",
      "No. Groups:                         54                       Scale:                               7.9409                 \n",
      "Min. group size:                    49                       Log-Likelihood:                      -7482.8000             \n",
      "Max. group size:                    56                       Converged:                           Yes                    \n",
      "Mean group size:                    55.1                                                                                 \n",
      "-------------------------------------------------------------------------------------------------------------------------\n",
      "                                                                              Coef.  Std.Err.    z    P>|z| [0.025 0.975]\n",
      "-------------------------------------------------------------------------------------------------------------------------\n",
      "Intercept                                                                     88.646    1.242  71.350 0.000 86.211 91.081\n",
      "C(dimension)[T.3D]                                                            -2.020    0.182 -11.103 0.000 -2.376 -1.663\n",
      "C(DiffType, Treatment(reference=\"Mirrored\"))[T.Equal]                         -0.072    0.166  -0.434 0.665 -0.397  0.253\n",
      "C(DiffType, Treatment(reference=\"Mirrored\"))[T.Structural]                    -0.105    0.216  -0.485 0.627 -0.528  0.318\n",
      "C(dimension)[T.3D]:C(DiffType, Treatment(reference=\"Mirrored\"))[T.Equal]      -0.008    0.234  -0.034 0.973 -0.466  0.450\n",
      "C(dimension)[T.3D]:C(DiffType, Treatment(reference=\"Mirrored\"))[T.Structural]  0.075    0.304   0.248 0.804 -0.521  0.672\n",
      "Group Var                                                                     82.458    5.742                            \n",
      "=========================================================================================================================\n",
      "\n",
      "                         Mixed Linear Model Regression Results\n",
      "=======================================================================================\n",
      "Model:                MixedLM     Dependent Variable:     Mean_horizontal_head_movement\n",
      "No. Observations:     2978        Method:                 REML                         \n",
      "No. Groups:           54          Scale:                  2.3843                       \n",
      "Min. group size:      49          Log-Likelihood:         -5675.1705                   \n",
      "Max. group size:      56          Converged:              Yes                          \n",
      "Mean group size:      55.1                                                             \n",
      "---------------------------------------------------------------------------------------\n",
      "                                             Coef.  Std.Err.   z    P>|z| [0.025 0.975]\n",
      "---------------------------------------------------------------------------------------\n",
      "Intercept                                     4.924    0.469 10.502 0.000  4.005  5.843\n",
      "C(dimension)[T.3D]                            0.877    0.080 10.925 0.000  0.719  1.034\n",
      "C(DiffType)[T.Mirrored]                       0.081    0.091  0.891 0.373 -0.097  0.259\n",
      "C(DiffType)[T.Structural]                    -0.040    0.111 -0.365 0.715 -0.258  0.177\n",
      "C(dimension)[T.3D]:C(DiffType)[T.Mirrored]   -0.177    0.128 -1.380 0.167 -0.427  0.074\n",
      "C(dimension)[T.3D]:C(DiffType)[T.Structural] -0.332    0.156 -2.134 0.033 -0.638 -0.027\n",
      "Group Var                                    11.697    1.490                           \n",
      "=======================================================================================\n",
      "\n",
      "                                         Mixed Linear Model Regression Results\n",
      "========================================================================================================================\n",
      "Model:                           MixedLM                Dependent Variable:                Mean_horizontal_head_movement\n",
      "No. Observations:                2978                   Method:                            REML                         \n",
      "No. Groups:                      54                     Scale:                             2.3843                       \n",
      "Min. group size:                 49                     Log-Likelihood:                    -5675.1705                   \n",
      "Max. group size:                 56                     Converged:                         Yes                          \n",
      "Mean group size:                 55.1                                                                                   \n",
      "------------------------------------------------------------------------------------------------------------------------\n",
      "                                                                              Coef.  Std.Err.   z    P>|z| [0.025 0.975]\n",
      "------------------------------------------------------------------------------------------------------------------------\n",
      "Intercept                                                                      5.005    0.471 10.633 0.000  4.083  5.928\n",
      "C(dimension)[T.3D]                                                             0.700    0.100  7.021 0.000  0.504  0.895\n",
      "C(DiffType, Treatment(reference=\"Mirrored\"))[T.Equal]                         -0.081    0.091 -0.891 0.373 -0.259  0.097\n",
      "C(DiffType, Treatment(reference=\"Mirrored\"))[T.Structural]                    -0.121    0.118 -1.027 0.305 -0.353  0.110\n",
      "C(dimension)[T.3D]:C(DiffType, Treatment(reference=\"Mirrored\"))[T.Equal]       0.177    0.128  1.380 0.167 -0.074  0.427\n",
      "C(dimension)[T.3D]:C(DiffType, Treatment(reference=\"Mirrored\"))[T.Structural] -0.156    0.167 -0.935 0.350 -0.482  0.171\n",
      "Group Var                                                                     11.697    1.490                           \n",
      "========================================================================================================================\n",
      "\n"
     ]
    }
   ],
   "source": [
    "import statsmodels.api as sm\n",
    "import statsmodels.formula.api as smf\n",
    "dfr = dff.copy()\n",
    "dfr = dfr.dropna(axis=0)\n",
    "dfr.columns = dfr.columns.str.replace(' ', '_')\n",
    "dv = dfr.columns[3:].to_list()\n",
    "mlm = pd.DataFrame({'Interaction':[], 'Estimate':[], 'Z':[], 'P':[], '95\\% CI':[]})\n",
    "for index in range(14):\n",
    "    mdf = smf.mixedlm('{} ~ C(dimension)*C(DiffType)'.format(dv[index]), dfr, groups=dfr['ID']).fit()\n",
    "    print(mdf.summary())\n",
    "    x = mdf.summary().tables[1].iloc[4:-1]\n",
    "    \n",
    "    mdf = smf.mixedlm('{} ~ C(dimension)*C(DiffType, Treatment(reference=\"Mirrored\"))'.format(dv[index]), dfr, groups=dfr['ID']).fit()\n",
    "    print(mdf.summary())\n",
    "    y = mdf.summary().tables[1].iloc[5:-1]\n",
    "    y.index = ['3D:(Structural-Mirrored)']\n",
    "    x.index = ['3D:(Mirrored-Equal)', '3D:(Structural-Equal)']\n",
    "    x = pd.concat([x,y])\n",
    "    x = x.rename(columns={'z':'Z', 'P>|z|':'P'})\n",
    "    x.insert(0, 'Estimate', '$' + x['Coef.'].astype(str) +'\\pm'+x['Std.Err.'].astype(str) + '$')\n",
    "    x['95\\% CI'] = '$[' + x['[0.025'].astype(str) +','+x['0.975]'].astype(str) + ']$'\n",
    "    x = x.drop(columns=['Coef.', 'Std.Err.', '[0.025', '0.975]'])\n",
    "    x.insert(0, 'Variable', [dv[index], '', ''])\n",
    "    x.insert(0, 'Interaction', x.index)\n",
    "    x.index = x['Variable']\n",
    "    x = x.drop(columns=['Variable'])\n",
    "    mlm = pd.concat([mlm, x])"
   ]
  },
  {
   "cell_type": "code",
   "execution_count": 261,
   "id": "2da0aeba-b31c-4234-b35f-ec90e8f06ca5",
   "metadata": {
    "tags": []
   },
   "outputs": [],
   "source": [
    "mlm.index = mlm.index.str.replace('_',' ')\n",
    "mlm =mlm.rename(index = {'Correct':'Percentage solved correctly', 'RT': 'RT (s)','Mean fixation duration':'Mean fixation duration (s)', 'Mean fixation rate':'Mean fixation rate ($n/s$)', \n",
    "                           'Mean regressive fixation duration': '\\parbox[t][0.8cm][t]{3.4cm}{Mean regressive fixation duration (s)}',\n",
    "                           'Equal fixation duration between figures':'\\parbox[t][0.8cm][t]{3.4cm}{Equal fixation duration between figures (ratio)}',\n",
    "                           'Equal fixation duration within figure': '\\parbox[t][0.8cm][t]{3.4cm}{Equal fixation duration within figure (ratio)}',\n",
    "                           'Strategy ratio': 'Strategy ratio ($\\lessgtr 1$)', 'Mean saccade velocity': 'Mean saccade velocity ($\\degree / s$)',\n",
    "                           'Mean saccade rate': 'Mean saccade rate ($n/s$)', 'Mean pupil diameter':'Mean pupil diameter (mm)', \n",
    "                           'Pupil diameter amplitude': 'Pupil diameter amplitude (mm)', 'Mean distance to figure': 'Mean distance to figure (cm)', \n",
    "                           'Mean horizontal head movement':'\\parbox[t][0.8cm][t]{3.4cm}{Mean horizontal head movement (cm)}'})"
   ]
  },
  {
   "cell_type": "code",
   "execution_count": 262,
   "id": "5eb2b099-19aa-4d64-b3cb-cac64c75ba53",
   "metadata": {
    "tags": []
   },
   "outputs": [
    {
     "name": "stderr",
     "output_type": "stream",
     "text": [
      "C:\\Users\\Stark\\AppData\\Local\\Temp\\ipykernel_11392\\4046064901.py:3: FutureWarning: In future versions `DataFrame.to_latex` is expected to utilise the base implementation of `Styler.to_latex` for formatting and rendering. The arguments signature may therefore change. It is recommended instead to use `DataFrame.style.to_latex` which also contains additional functionality.\n",
      "  mlm.to_latex(buf=data_path + 'interaction.txt',encoding='utf-8', escape=False)\n"
     ]
    }
   ],
   "source": [
    "data_path = project_path.rsplit('\\\\',1)[0] + \"\\\\data\\\\6_feature_dataset\\\\temp\\\\\"\n",
    "with pd.option_context(\"max_colwidth\", 1000):\n",
    "    mlm.to_latex(buf=data_path + 'interaction.txt',encoding='utf-8', escape=False)"
   ]
  },
  {
   "cell_type": "code",
   "execution_count": 257,
   "id": "71e0e940-fd09-454f-9bbc-c3bd7fad1c03",
   "metadata": {
    "tags": []
   },
   "outputs": [
    {
     "name": "stderr",
     "output_type": "stream",
     "text": [
      "C:\\Users\\Stark\\AppData\\Local\\Programs\\Python\\Python311\\Lib\\site-packages\\statsmodels\\regression\\mixed_linear_model.py:2237: ConvergenceWarning: The MLE may be on the boundary of the parameter space.\n",
      "  warnings.warn(msg, ConvergenceWarning)\n"
     ]
    }
   ],
   "source": [
    "mdf = smf.mixedlm('{} ~ C(dimension)*C(DiffType, Treatment(reference=\"Mirrored\"))'.format('Correct'), dfr, groups=dfr['ID']).fit()\n",
    "y = mdf.summary().tables[1].iloc[5:-1]"
   ]
  },
  {
   "cell_type": "code",
   "execution_count": 258,
   "id": "bb7fd0d0-739d-4881-929b-a2ed0d875597",
   "metadata": {
    "tags": []
   },
   "outputs": [
    {
     "data": {
      "text/html": [
       "<div>\n",
       "<style scoped>\n",
       "    .dataframe tbody tr th:only-of-type {\n",
       "        vertical-align: middle;\n",
       "    }\n",
       "\n",
       "    .dataframe tbody tr th {\n",
       "        vertical-align: top;\n",
       "    }\n",
       "\n",
       "    .dataframe thead th {\n",
       "        text-align: right;\n",
       "    }\n",
       "</style>\n",
       "<table border=\"1\" class=\"dataframe\">\n",
       "  <thead>\n",
       "    <tr style=\"text-align: right;\">\n",
       "      <th></th>\n",
       "      <th>Coef.</th>\n",
       "      <th>Std.Err.</th>\n",
       "      <th>z</th>\n",
       "      <th>P&gt;|z|</th>\n",
       "      <th>[0.025</th>\n",
       "      <th>0.975]</th>\n",
       "    </tr>\n",
       "  </thead>\n",
       "  <tbody>\n",
       "    <tr>\n",
       "      <th>C(dimension)[T.3D]:C(DiffType, Treatment(reference=\"Mirrored\"))[T.Structural]</th>\n",
       "      <td>0.034</td>\n",
       "      <td>0.037</td>\n",
       "      <td>0.943</td>\n",
       "      <td>0.346</td>\n",
       "      <td>-0.037</td>\n",
       "      <td>0.106</td>\n",
       "    </tr>\n",
       "  </tbody>\n",
       "</table>\n",
       "</div>"
      ],
      "text/plain": [
       "                                                    Coef. Std.Err.      z  \\\n",
       "C(dimension)[T.3D]:C(DiffType, Treatment(refere...  0.034    0.037  0.943   \n",
       "\n",
       "                                                    P>|z|  [0.025 0.975]  \n",
       "C(dimension)[T.3D]:C(DiffType, Treatment(refere...  0.346  -0.037  0.106  "
      ]
     },
     "execution_count": 258,
     "metadata": {},
     "output_type": "execute_result"
    }
   ],
   "source": [
    "y"
   ]
  },
  {
   "cell_type": "code",
   "execution_count": null,
   "id": "31bbe22a-4b04-4e52-a9f6-b517919dcedd",
   "metadata": {},
   "outputs": [],
   "source": []
  }
 ],
 "metadata": {
  "kernelspec": {
   "display_name": "jupyter_venv",
   "language": "python",
   "name": "jupyter_venv"
  },
  "language_info": {
   "codemirror_mode": {
    "name": "ipython",
    "version": 3
   },
   "file_extension": ".py",
   "mimetype": "text/x-python",
   "name": "python",
   "nbconvert_exporter": "python",
   "pygments_lexer": "ipython3",
   "version": "3.11.4"
  }
 },
 "nbformat": 4,
 "nbformat_minor": 5
}

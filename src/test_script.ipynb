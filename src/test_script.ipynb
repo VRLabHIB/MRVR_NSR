{
 "cells": [
  {
   "cell_type": "code",
   "execution_count": 1,
   "id": "47a2aa22-52a7-4255-821e-00a7749dc0ad",
   "metadata": {
    "tags": []
   },
   "outputs": [],
   "source": [
    "import numpy as np\n",
    "import pandas as pd\n",
    "import os\n",
    "project_path = os.path.abspath(os.getcwd())"
   ]
  },
  {
   "cell_type": "code",
   "execution_count": 6,
   "id": "578ee371-cd25-43d0-8239-51ce6ed3695f",
   "metadata": {
    "tags": []
   },
   "outputs": [
    {
     "data": {
      "text/html": [
       "<div>\n",
       "<style scoped>\n",
       "    .dataframe tbody tr th:only-of-type {\n",
       "        vertical-align: middle;\n",
       "    }\n",
       "\n",
       "    .dataframe tbody tr th {\n",
       "        vertical-align: top;\n",
       "    }\n",
       "\n",
       "    .dataframe thead th {\n",
       "        text-align: right;\n",
       "    }\n",
       "</style>\n",
       "<table border=\"1\" class=\"dataframe\">\n",
       "  <thead>\n",
       "    <tr style=\"text-align: right;\">\n",
       "      <th></th>\n",
       "      <th>stimulus</th>\n",
       "      <th>side</th>\n",
       "      <th>figure</th>\n",
       "      <th>cube</th>\n",
       "      <th>x</th>\n",
       "      <th>y</th>\n",
       "      <th>mid_x</th>\n",
       "      <th>mid_y</th>\n",
       "      <th>max_dist</th>\n",
       "      <th>radius</th>\n",
       "    </tr>\n",
       "  </thead>\n",
       "  <tbody>\n",
       "    <tr>\n",
       "      <th>0</th>\n",
       "      <td>1</td>\n",
       "      <td>left</td>\n",
       "      <td>M01</td>\n",
       "      <td>6</td>\n",
       "      <td>-18.230</td>\n",
       "      <td>106.320</td>\n",
       "      <td>-18.1045</td>\n",
       "      <td>109.9848</td>\n",
       "      <td>12.225162</td>\n",
       "      <td>23.3961</td>\n",
       "    </tr>\n",
       "    <tr>\n",
       "      <th>1</th>\n",
       "      <td>1</td>\n",
       "      <td>left</td>\n",
       "      <td>M01</td>\n",
       "      <td>2</td>\n",
       "      <td>-13.385</td>\n",
       "      <td>118.437</td>\n",
       "      <td>-18.1045</td>\n",
       "      <td>109.9848</td>\n",
       "      <td>12.225162</td>\n",
       "      <td>23.3961</td>\n",
       "    </tr>\n",
       "  </tbody>\n",
       "</table>\n",
       "</div>"
      ],
      "text/plain": [
       "   stimulus  side figure  cube       x        y    mid_x     mid_y   max_dist  \\\n",
       "0         1  left    M01     6 -18.230  106.320 -18.1045  109.9848  12.225162   \n",
       "1         1  left    M01     2 -13.385  118.437 -18.1045  109.9848  12.225162   \n",
       "\n",
       "    radius  \n",
       "0  23.3961  \n",
       "1  23.3961  "
      ]
     },
     "execution_count": 6,
     "metadata": {},
     "output_type": "execute_result"
    }
   ],
   "source": [
    "meta_path = project_path.rsplit('\\\\',1)[0] + \"\\\\meta\\\\\"\n",
    "df = pd.read_csv(meta_path + '3Dcube_locations.csv')\n",
    "df.head(2)"
   ]
  },
  {
   "cell_type": "code",
   "execution_count": 10,
   "id": "5308f60e-c889-4504-8bb8-a0017e927c15",
   "metadata": {
    "tags": []
   },
   "outputs": [
    {
     "data": {
      "text/plain": [
       "x      4.835598\n",
       "y    108.946698\n",
       "dtype: float64"
      ]
     },
     "execution_count": 10,
     "metadata": {},
     "output_type": "execute_result"
    }
   ],
   "source": [
    "df[['x','y']].mean(axis=0)"
   ]
  },
  {
   "cell_type": "code",
   "execution_count": 2,
   "id": "a7b65426-ad98-4302-a309-9f41a5e2a8f0",
   "metadata": {
    "tags": []
   },
   "outputs": [],
   "source": [
    "data_path = project_path.rsplit('\\\\',1)[0] + \"\\\\data\\\\6_feature_dataset\\\\\"\n",
    "\n",
    "dfo = pd.read_csv(data_path + '2023-06-17_eye_features.csv')\n",
    "dfn = pd.read_csv(data_path + '2024-03-25_eye_features.csv')\n",
    "dfn = dfn.drop(columns=['Mean fixation duration during head movement'])\n",
    "\n",
    "df = dfo.merge(dfn, on=['ID', 'dimension', 'condition', 'stimulus'], how='left')\n",
    "df = df[~df['stimulus'].isin([21, 24])]\n",
    "df.to_csv(data_path + '2024-03-25_final_feature_dataset.csv', index=False)"
   ]
  },
  {
   "cell_type": "code",
   "execution_count": 3,
   "id": "058c8842-536a-4142-8f13-fca1fc2606f9",
   "metadata": {
    "tags": []
   },
   "outputs": [
    {
     "data": {
      "text/plain": [
       "Index(['ID', 'dimension', 'condition', 'stimulus', 'Correct', 'RT', 'Response',\n",
       "       'Mean fixation duration', 'Mean regressive fixation duration',\n",
       "       'Equal fixation duration between figures',\n",
       "       'Equal fixation duration within figure', 'Mean saccade duration',\n",
       "       'Mean saccade velocity', 'Mean pupil diameter',\n",
       "       'Pupil diameter amplitude', 'Mean head rotation', 'Mean head movement',\n",
       "       'Strategy ratio', 'Equal?', 'AngularDisp', 'DiffType',\n",
       "       'Number of Fixations', 'Mean fixation rate', 'Number of Saccades',\n",
       "       'Mean saccade rate', 'Mean distance to figure',\n",
       "       'Mean angle around figure', 'Mean horizontal head movement'],\n",
       "      dtype='object')"
      ]
     },
     "execution_count": 3,
     "metadata": {},
     "output_type": "execute_result"
    }
   ],
   "source": [
    "df = df.rename(columns={'"
   ]
  },
  {
   "cell_type": "code",
   "execution_count": 5,
   "id": "c2e10662-d326-4aa7-9eaa-d702e799a9bb",
   "metadata": {
    "tags": []
   },
   "outputs": [
    {
     "name": "stderr",
     "output_type": "stream",
     "text": [
      "C:\\Users\\Stark\\AppData\\Local\\Temp\\ipykernel_22100\\1699406413.py:25: FutureWarning: In future versions `DataFrame.to_latex` is expected to utilise the base implementation of `Styler.to_latex` for formatting and rendering. The arguments signature may therefore change. It is recommended instead to use `DataFrame.style.to_latex` which also contains additional functionality.\n",
      "  dfr.to_latex(buf=data_path + 'corr.txt',encoding='utf-8', escape=False)\n",
      "C:\\Users\\Stark\\AppData\\Local\\Temp\\ipykernel_22100\\1699406413.py:41: FutureWarning: In future versions `DataFrame.to_latex` is expected to utilise the base implementation of `Styler.to_latex` for formatting and rendering. The arguments signature may therefore change. It is recommended instead to use `DataFrame.style.to_latex` which also contains additional functionality.\n",
      "  dfr.to_latex(buf=data_path + 'corr2.txt',encoding='utf-8', escape=False)\n",
      "C:\\Users\\Stark\\AppData\\Local\\Temp\\ipykernel_22100\\1699406413.py:57: FutureWarning: In future versions `DataFrame.to_latex` is expected to utilise the base implementation of `Styler.to_latex` for formatting and rendering. The arguments signature may therefore change. It is recommended instead to use `DataFrame.style.to_latex` which also contains additional functionality.\n",
      "  dfr.to_latex(buf=data_path + 'corr3.txt',encoding='utf-8', escape=False)\n"
     ]
    }
   ],
   "source": [
    "df = df.rename(columns={'Pupil diameter amplitude':'Peak pupil diameter','Mean horizontal head movement':'Mean head movement to the sides'})\n",
    "\n",
    "df2 = df[df['dimension']==2]\n",
    "df3 = df[df['dimension']==3]\n",
    "\n",
    "vars2 = ['Mean fixation duration', 'Mean fixation rate', 'Mean regressive fixation duration',\n",
    "   'Equal fixation duration between figures',\n",
    "   'Equal fixation duration within figure','Strategy ratio',\n",
    "   'Mean saccade velocity','Mean saccade rate', 'Mean pupil diameter',\n",
    "   'Peak pupil diameter', 'Mean distance to figure', 'Mean head movement to the sides']\n",
    "dfs = df[vars2]\n",
    "\n",
    "dfr = dfs.corr().round(2)\n",
    "dfr = dfr.where(np.tril(np.ones(dfr.shape), k=-1).astype(bool))\n",
    "dfr = dfr.round(3)\n",
    "dfr = dfr.replace(np.nan, '-')\n",
    "dfr = dfr.drop(columns='Mean head movement to the sides')\n",
    "dfr.columns = np.arange(1, 12)\n",
    "idx_lst = list()\n",
    "for idx, i in zip(dfr.index, np.arange(1,16)):\n",
    "    idx_lst.append(str(i) +' '+ str(idx))\n",
    "dfr.index = idx_lst\n",
    "#table = dfr.to_latex(float_format=\"{:0.2f}\".format)\n",
    "data_path = project_path.rsplit('\\\\',1)[0] + \"\\\\data\\\\6_feature_dataset\\\\temp\\\\\"\n",
    "dfr.to_latex(buf=data_path + 'corr.txt',encoding='utf-8', escape=False)\n",
    "\n",
    "dfs = df2[vars2]\n",
    "\n",
    "dfr = dfs.corr().round(2)\n",
    "dfr = dfr.where(np.tril(np.ones(dfr.shape), k=-1).astype(bool))\n",
    "dfr = dfr.round(3)\n",
    "dfr = dfr.replace(np.nan, '-')\n",
    "dfr = dfr.drop(columns='Mean head movement to the sides')\n",
    "dfr.columns = np.arange(1, 12)\n",
    "idx_lst = list()\n",
    "for idx, i in zip(dfr.index, np.arange(1,16)):\n",
    "    idx_lst.append(str(i) +' '+ str(idx))\n",
    "dfr.index = idx_lst\n",
    "#table = dfr.to_latex(float_format=\"{:0.2f}\".format)\n",
    "data_path = project_path.rsplit('\\\\',1)[0] + \"\\\\data\\\\6_feature_dataset\\\\temp\\\\\"\n",
    "dfr.to_latex(buf=data_path + 'corr2.txt',encoding='utf-8', escape=False)\n",
    "\n",
    "dfs = df3[vars2]\n",
    "\n",
    "dfr = dfs.corr().round(2)\n",
    "dfr = dfr.where(np.tril(np.ones(dfr.shape), k=-1).astype(bool))\n",
    "dfr = dfr.round(3)\n",
    "dfr = dfr.replace(np.nan, '-')\n",
    "dfr = dfr.drop(columns='Mean head movement to the sides')\n",
    "dfr.columns = np.arange(1, 12)\n",
    "idx_lst = list()\n",
    "for idx, i in zip(dfr.index, np.arange(1,16)):\n",
    "    idx_lst.append(str(i) +' '+ str(idx))\n",
    "dfr.index = idx_lst\n",
    "#table = dfr.to_latex(float_format=\"{:0.2f}\".format)\n",
    "data_path = project_path.rsplit('\\\\',1)[0] + \"\\\\data\\\\6_feature_dataset\\\\temp\\\\\"\n",
    "dfr.to_latex(buf=data_path + 'corr3.txt',encoding='utf-8', escape=False)"
   ]
  },
  {
   "cell_type": "code",
   "execution_count": 100,
   "id": "e0769437-8095-42ca-9552-0791b0249409",
   "metadata": {
    "tags": []
   },
   "outputs": [
    {
     "name": "stderr",
     "output_type": "stream",
     "text": [
      "C:\\Users\\Stark\\AppData\\Local\\Temp\\ipykernel_18684\\1674564250.py:1: FutureWarning: The default value of numeric_only in DataFrame.corr is deprecated. In a future version, it will default to False. Select only valid columns or specify the value of numeric_only to silence this warning.\n",
      "  dfc = df.iloc[:, 4:].corr().round(3)\n"
     ]
    }
   ],
   "source": [
    "#dfc = df.iloc[:, 4:].corr().round(3)\n",
    "#dfc.index = dfc.columns\n",
    "#dfc.to_csv(data_path + '2024-03-21_correlations.csv', index=True)"
   ]
  },
  {
   "cell_type": "code",
   "execution_count": 30,
   "id": "010f42d8-02e1-4afd-bb23-26749c7b352d",
   "metadata": {
    "tags": []
   },
   "outputs": [],
   "source": [
    "data_path = project_path.rsplit('\\\\',1)[0] + \"\\\\data\\\\6_feature_dataset\\\\\"\n",
    "dfa = df.groupby(['ID','dimension'])[['ID', 'dimension', 'Correct', 'RT',\n",
    "       'Mean fixation duration','Mean fixation rate', 'Mean regressive fixation duration',\n",
    "       'Equal fixation duration between figures',\n",
    "       'Equal fixation duration within figure', 'Strategy ratio',\n",
    "       'Mean saccade velocity', 'Mean saccade rate','Mean pupil diameter',\n",
    "       'Pupil diameter amplitude', \n",
    "        'Mean distance to figure', 'Mean horizontal head movement']].mean()\n",
    "\n",
    "dfa['dimension'] = dfa['dimension'].astype(int)\n",
    "dfa = dfa.rename(columns={'Relative Number of Fixations':'Mean fixation rate', 'Relative Number of Saccades':'Mean saccade rate'})\n",
    "dfa.to_csv(data_path + '2024-03-25_final_feature_dataset_agg.csv', index=False)"
   ]
  },
  {
   "cell_type": "code",
   "execution_count": 31,
   "id": "3535b6e8-4205-4d20-a76a-8e6aa9be04a7",
   "metadata": {
    "tags": []
   },
   "outputs": [
    {
     "data": {
      "text/plain": [
       "Index(['ID', 'dimension', 'Correct', 'RT', 'Mean fixation duration',\n",
       "       'Mean fixation rate', 'Mean regressive fixation duration',\n",
       "       'Equal fixation duration between figures',\n",
       "       'Equal fixation duration within figure', 'Strategy ratio',\n",
       "       'Mean saccade velocity', 'Mean saccade rate', 'Mean pupil diameter',\n",
       "       'Pupil diameter amplitude', 'Mean distance to figure',\n",
       "       'Mean horizontal head movement'],\n",
       "      dtype='object')"
      ]
     },
     "execution_count": 31,
     "metadata": {},
     "output_type": "execute_result"
    }
   ],
   "source": [
    "dfa.columns"
   ]
  },
  {
   "cell_type": "markdown",
   "id": "82834953-86f7-4dd2-8102-39492c2d4653",
   "metadata": {},
   "source": [
    "## After R processing"
   ]
  },
  {
   "cell_type": "code",
   "execution_count": 162,
   "id": "5a8a2fb2-72be-4632-b93f-14e64b4a92b2",
   "metadata": {
    "tags": []
   },
   "outputs": [
    {
     "data": {
      "text/plain": [
       "Index(['Unnamed: 0', 'var1.stud.', 'var2.stud.', 'test.stud.', 'stat.stud.',\n",
       "       'df.stud.', 'p.stud.', 'md.stud.', 'sed.stud.', 'cil.stud.',\n",
       "       'ciu.stud.', 'esType.stud.', 'es.stud.', 'var1.wilc.', 'var2.wilc.',\n",
       "       'test.wilc.', 'stat.wilc.', 'p.wilc.', 'md.wilc.', 'sed.wilc.',\n",
       "       'cil.wilc.', 'ciu.wilc.', 'esType.wilc.', 'es.wilc.'],\n",
       "      dtype='object')"
      ]
     },
     "execution_count": 162,
     "metadata": {},
     "output_type": "execute_result"
    }
   ],
   "source": [
    "data_path = project_path.rsplit('\\\\',1)[0] + \"\\\\data\\\\6_feature_dataset\\\\temp\\\\\"\n",
    "\n",
    "dfs = pd.read_csv(data_path +'stat22.csv')\n",
    "dfs = dfs.round(3)\n",
    "dfs.columns"
   ]
  },
  {
   "cell_type": "code",
   "execution_count": 163,
   "id": "f82b0583-62f2-4ff9-953f-4ced28dc1fbe",
   "metadata": {
    "tags": []
   },
   "outputs": [
    {
     "name": "stderr",
     "output_type": "stream",
     "text": [
      "C:\\Users\\Stark\\AppData\\Local\\Temp\\ipykernel_11392\\1479356347.py:6: SettingWithCopyWarning: \n",
      "A value is trying to be set on a copy of a slice from a DataFrame\n",
      "\n",
      "See the caveats in the documentation: https://pandas.pydata.org/pandas-docs/stable/user_guide/indexing.html#returning-a-view-versus-a-copy\n",
      "  table['P'].iloc[2:] = adjW[1].round(3)\n",
      "C:\\Users\\Stark\\AppData\\Local\\Temp\\ipykernel_11392\\1479356347.py:12: FutureWarning: In a future version of pandas all arguments of StringMethods.rsplit except for the argument 'pat' will be keyword-only.\n",
      "  table.insert(0,'Feature','$' + dfs['var1.wilc.'].str.rsplit('.', 1, expand=True)[0] + '$')\n",
      "C:\\Users\\Stark\\AppData\\Local\\Temp\\ipykernel_11392\\1479356347.py:13: FutureWarning: The default value of regex will change from True to False in a future version. In addition, single character regular expressions will *not* be treated as literal strings when regex=True.\n",
      "  table['Feature'] = table['Feature'].str.replace('.',' ')\n",
      "C:\\Users\\Stark\\AppData\\Local\\Temp\\ipykernel_11392\\1479356347.py:14: FutureWarning: In future versions `DataFrame.to_latex` is expected to utilise the base implementation of `Styler.to_latex` for formatting and rendering. The arguments signature may therefore change. It is recommended instead to use `DataFrame.style.to_latex` which also contains additional functionality.\n",
      "  table.to_latex(buf=data_path + 'wtest.txt',encoding='utf-8', escape=False)\n"
     ]
    }
   ],
   "source": [
    "from statsmodels.stats import multitest\n",
    "table = dfs[['stat.wilc.', 'p.wilc.']]\n",
    "table = table.rename(columns={'stat.wilc.':'T','p.wilc.':'P'}) \n",
    "pvalsW = table['P'].iloc[2:].to_list()\n",
    "adjW = multitest.multipletests(pvalsW, alpha=0.05, method='bonferroni', is_sorted=False, returnsorted=False)\n",
    "table['P'].iloc[2:] = adjW[1].round(3)\n",
    "table['T'] = '$' + table['T'].astype(str) + '$'\n",
    "table['P'] = '$' + table['P'].astype(str) + '$'\n",
    "table['M diff'] ='$' + dfs['md.wilc.'].astype(str) + '\\pm' + dfs['sed.wilc.'].astype(str) + '$'\n",
    "table['95% CI'] = '$' +'[' + dfs['cil.wilc.'].astype(str) + ',' + dfs['ciu.wilc.'].astype(str) + ']' + '$'\n",
    "table['Effect size'] ='$' + dfs['es.wilc.'].astype(str) + '$'\n",
    "table.insert(0,'Feature','$' + dfs['var1.wilc.'].str.rsplit('.', 1, expand=True)[0] + '$')\n",
    "table['Feature'] = table['Feature'].str.replace('.',' ')\n",
    "table.to_latex(buf=data_path + 'wtest.txt',encoding='utf-8', escape=False)"
   ]
  },
  {
   "cell_type": "code",
   "execution_count": 164,
   "id": "ca850d7d-aa03-414d-a2bb-657e63581d29",
   "metadata": {
    "tags": []
   },
   "outputs": [
    {
     "name": "stderr",
     "output_type": "stream",
     "text": [
      "C:\\Users\\Stark\\AppData\\Local\\Temp\\ipykernel_11392\\386623709.py:12: FutureWarning: In a future version of pandas all arguments of StringMethods.rsplit except for the argument 'pat' will be keyword-only.\n",
      "  table.insert(0,'Feature','$' + dfs['var1.stud.'].str.rsplit('.', 1, expand=True)[0] + '$')\n",
      "C:\\Users\\Stark\\AppData\\Local\\Temp\\ipykernel_11392\\386623709.py:13: FutureWarning: The default value of regex will change from True to False in a future version. In addition, single character regular expressions will *not* be treated as literal strings when regex=True.\n",
      "  table['Feature'] = table['Feature'].str.replace('.',' ')\n",
      "C:\\Users\\Stark\\AppData\\Local\\Temp\\ipykernel_11392\\386623709.py:14: FutureWarning: In future versions `DataFrame.to_latex` is expected to utilise the base implementation of `Styler.to_latex` for formatting and rendering. The arguments signature may therefore change. It is recommended instead to use `DataFrame.style.to_latex` which also contains additional functionality.\n",
      "  table.to_latex(buf=data_path + 'ttest.txt',encoding='utf-8', escape=False)\n"
     ]
    }
   ],
   "source": [
    "from statsmodels.stats import multitest\n",
    "table = dfs[['stat.stud.', 'p.stud.']]\n",
    "table = table.rename(columns={'stat.stud.':'T','p.stud.':'P'}) \n",
    "pvalsT = table['P'].iloc[2:].to_list()\n",
    "adjT = multitest.multipletests(pvalsT, alpha=0.05, method='bonferroni', is_sorted=False, returnsorted=False)\n",
    "table['P'].iloc[2:] = adjT[1].round(3)\n",
    "table['T'] = '$' + table['T'].astype(str) + '$'\n",
    "table['P'] = '$' + table['P'].astype(str) + '$'\n",
    "table['M diff'] ='$' + dfs['md.stud.'].astype(str) + '\\pm' + dfs['sed.stud.'].astype(str) + '$'\n",
    "table['95% CI'] = '$' +'[' + dfs['cil.stud.'].astype(str) + ',' + dfs['ciu.stud.'].astype(str) + ']' + '$'\n",
    "table['Effect size'] ='$' + dfs['es.stud.'].astype(str) + '$'\n",
    "table.insert(0,'Feature','$' + dfs['var1.stud.'].str.rsplit('.', 1, expand=True)[0] + '$')\n",
    "table['Feature'] = table['Feature'].str.replace('.',' ')\n",
    "table.to_latex(buf=data_path + 'ttest.txt',encoding='utf-8', escape=False)"
   ]
  },
  {
   "cell_type": "code",
   "execution_count": 50,
   "id": "275ea916-dbcf-44ce-817b-df831c9b736a",
   "metadata": {
    "tags": []
   },
   "outputs": [
    {
     "name": "stderr",
     "output_type": "stream",
     "text": [
      "C:\\Users\\Stark\\AppData\\Local\\Temp\\ipykernel_11392\\1071669715.py:2: FutureWarning: In future versions `DataFrame.to_latex` is expected to utilise the base implementation of `Styler.to_latex` for formatting and rendering. The arguments signature may therefore change. It is recommended instead to use `DataFrame.style.to_latex` which also contains additional functionality.\n",
      "  dfs1.iloc[:,1:].to_latex(buf=data_path + 'stats.txt',encoding='utf-8', escape=False)\n"
     ]
    }
   ],
   "source": [
    "data_path = project_path.rsplit('\\\\',1)[0] + \"\\\\data\\\\6_feature_dataset\\\\temp\\\\\"\n",
    "dfs1.iloc[:,1:].to_latex(buf=data_path + 'stats.txt',encoding='utf-8', escape=False)"
   ]
  },
  {
   "cell_type": "code",
   "execution_count": 178,
   "id": "00bb177b-9d2f-4bb2-b8b1-b7087259ac76",
   "metadata": {
    "tags": []
   },
   "outputs": [
    {
     "name": "stderr",
     "output_type": "stream",
     "text": [
      "C:\\Users\\Stark\\AppData\\Local\\Temp\\ipykernel_11392\\1796752688.py:5: FutureWarning: In a future version of pandas all arguments of StringMethods.rsplit except for the argument 'pat' will be keyword-only.\n",
      "  dfs1['Variable'].str.rsplit(' ', 1, expand=True)[0].unique()\n"
     ]
    },
    {
     "data": {
      "text/plain": [
       "array(['Correct', 'RT', 'Mean fixation duration', 'Mean fixation rate',\n",
       "       'Mean regressive fixation duration',\n",
       "       'Equal fixation duration between figure',\n",
       "       'Equal fixation duration within figures', 'Strategy ratio',\n",
       "       'Mean saccade velocity', 'Mean saccades rate',\n",
       "       'Mean pupil diameter', 'Peak pupil diameter',\n",
       "       'Mean distance to figure', 'Mean horizontal head movement'],\n",
       "      dtype=object)"
      ]
     },
     "execution_count": 178,
     "metadata": {},
     "output_type": "execute_result"
    }
   ],
   "source": [
    "data_path = project_path.rsplit('\\\\',1)[0] + \"\\\\data\\\\6_feature_dataset\\\\temp\\\\\"\n",
    "\n",
    "dfs1 = pd.read_csv(data_path +'stat11.csv')\n",
    "dfs1 = dfs1.round(3)\n",
    "dfs1['Variable'].str.rsplit(' ', 1, expand=True)[0].unique()"
   ]
  },
  {
   "cell_type": "code",
   "execution_count": 188,
   "id": "cf0cf4c4-9603-431b-b1f4-8f90d9624841",
   "metadata": {
    "tags": []
   },
   "outputs": [
    {
     "name": "stderr",
     "output_type": "stream",
     "text": [
      "C:\\Users\\Stark\\AppData\\Local\\Temp\\ipykernel_11392\\3261538736.py:2: FutureWarning: In a future version of pandas all arguments of StringMethods.rsplit except for the argument 'pat' will be keyword-only.\n",
      "  for col in dfs1['Variable'].str.rsplit(' ', 1, expand=True)[0].unique():\n"
     ]
    }
   ],
   "source": [
    "dfss = pd.DataFrame({'Feature':[], '2D (M \\pm SD)':[], '3D (M \\pm SD)':[]})\n",
    "for col in dfs1['Variable'].str.rsplit(' ', 1, expand=True)[0].unique():\n",
    "    \n",
    "    col2 = col + ' 2D'\n",
    "    col3 = col + ' 3D'\n",
    "    \n",
    "    s2 = '$' + str(dfs1[dfs1['Variable']==col2]['mean'].values[0]) + '\\pm' + str(dfs1[dfs1['Variable']==col2]['sd'].values[0]) + '$'\n",
    "    s3 = '$' + str(dfs1[dfs1['Variable']==col3]['mean'].values[0]) + '\\pm' + str(dfs1[dfs1['Variable']==col3]['sd'].values[0]) + '$'\n",
    "    series = pd.DataFrame({'Feature': [col], '2D (M \\pm SD)':[s2], '3D (M \\pm SD)': [s3]})\n",
    "    dfss = pd.concat([dfss,series], axis=0)\n",
    "    \n",
    "dfss['Feature'] =dfss['Feature'].replace({'RT': 'RT (s)','Mean fixation duration':'Mean fixation duration (s)', 'Mean fixation rate':'Mean fixation rate ($n/s$)', \n",
    "                           'Mean regressive fixation duration': 'Mean regressive fixation duration (s)',\n",
    "                           'Equal fixation duration between figures':'Equal fixation duration between figures (ratio)',\n",
    "                           'Equal fixation duration within figure': 'Equal fixation duration within figure (ratio)',\n",
    "                           'Strategy ratio': 'Strategy ratio ($\\lessgtr 1$)', 'Mean saccade velocity': 'Mean saccade velocity ($\\degree / s$)',\n",
    "                           'Mean saccade rate': 'Mean saccade rate ($n/s$)', 'Mean pupil diameter':'Mean pupil diameter (mm)', \n",
    "                           'Pupil diameter amplitude': 'Pupil diameter amplitude (mm)', 'Mean distance to figure': 'Mean distance to figure (cm)', \n",
    "                           'Mean horizontal head movement':'Mean horizontal head movement (cm)}'})\n",
    "\n",
    "dfss.index = dfss['Feature']\n",
    "dfss = dfss.drop(columns='Feature')"
   ]
  },
  {
   "cell_type": "code",
   "execution_count": 189,
   "id": "a98dc51b-949e-4263-9341-d4b714c8538d",
   "metadata": {
    "tags": []
   },
   "outputs": [
    {
     "name": "stderr",
     "output_type": "stream",
     "text": [
      "C:\\Users\\Stark\\AppData\\Local\\Temp\\ipykernel_11392\\1328920915.py:2: FutureWarning: In future versions `DataFrame.to_latex` is expected to utilise the base implementation of `Styler.to_latex` for formatting and rendering. The arguments signature may therefore change. It is recommended instead to use `DataFrame.style.to_latex` which also contains additional functionality.\n",
      "  dfss.to_latex(buf=data_path + 'means1.txt',encoding='utf-8', escape=False)\n"
     ]
    }
   ],
   "source": [
    "data_path = project_path.rsplit('\\\\',1)[0] + \"\\\\data\\\\6_feature_dataset\\\\temp\\\\\"\n",
    "dfss.to_latex(buf=data_path + 'means1.txt',encoding='utf-8', escape=False)"
   ]
  },
  {
   "cell_type": "markdown",
   "id": "0e700f27-e39c-447e-b9ce-75d81293663f",
   "metadata": {},
   "source": [
    "## Create new table for stim type"
   ]
  },
  {
   "cell_type": "code",
   "execution_count": 81,
   "id": "3273fa2e-7076-4144-bd68-9f62d0d723f8",
   "metadata": {
    "tags": []
   },
   "outputs": [
    {
     "name": "stderr",
     "output_type": "stream",
     "text": [
      "C:\\Users\\Stark\\AppData\\Local\\Temp\\ipykernel_11392\\135016802.py:19: FutureWarning: The default value of numeric_only in DataFrameGroupBy.mean is deprecated. In a future version, numeric_only will default to False. Either specify numeric_only or select only columns which should be valid for the function.\n",
      "  'Pupil diameter amplitude',  'Mean distance to figure','Mean horizontal head movement']].mean().round(3)\n",
      "C:\\Users\\Stark\\AppData\\Local\\Temp\\ipykernel_11392\\135016802.py:27: FutureWarning: The default value of numeric_only in DataFrameGroupBy.std is deprecated. In a future version, numeric_only will default to False. Either specify numeric_only or select only columns which should be valid for the function.\n",
      "  'Pupil diameter amplitude',  'Mean distance to figure','Mean horizontal head movement']].std().round(3)\n"
     ]
    }
   ],
   "source": [
    "data_path = project_path.rsplit('\\\\',1)[0] + \"\\\\data\\\\6_feature_dataset\\\\\"\n",
    "dff = pd.read_csv(data_path + '2024-03-25_final_feature_dataset.csv')\n",
    "dff = dff[~dff['stimulus'].isin([21, 24])]\n",
    "dff = dff.drop(columns=['condition', 'stimulus', 'Response', 'Equal?', 'AngularDisp', 'Number of Fixations', 'Number of Saccades',\n",
    "                       'Mean saccade duration', 'ID'])\n",
    "dff['dimension'] = dff['dimension'].astype(str) + ['D ($M \\pm SD$)']\n",
    "\n",
    "dff['DiffType'] = dff['DiffType'].replace({'e':'Equal','m':'Mirrored', 's':'Structural'})\n",
    "\n",
    "\n",
    "\n",
    "\n",
    "m = dff.groupby(['dimension','DiffType'])[[ 'dimension', 'Correct', 'RT',\n",
    "       'Mean fixation duration','Mean fixation rate', 'Mean regressive fixation duration',\n",
    "       'Equal fixation duration between figures',\n",
    "       'Equal fixation duration within figure',\n",
    "        'Strategy ratio',\n",
    "       'Mean saccade velocity', 'Mean saccade rate','Mean pupil diameter',\n",
    "       'Pupil diameter amplitude',  'Mean distance to figure','Mean horizontal head movement']].mean().round(3)\n",
    "\n",
    "s = dff.groupby(['dimension','DiffType'])[[ 'dimension', 'Correct', 'RT',\n",
    "       'Mean fixation duration','Mean fixation rate', 'Mean regressive fixation duration',\n",
    "       'Equal fixation duration between figures',\n",
    "       'Equal fixation duration within figure',\n",
    "        'Strategy ratio',\n",
    "       'Mean saccade velocity', 'Mean saccade rate','Mean pupil diameter',\n",
    "       'Pupil diameter amplitude',  'Mean distance to figure','Mean horizontal head movement']].std().round(3)\n",
    "m = m.transpose()\n",
    "s = s.transpose()\n",
    "for i in range(len(m)):\n",
    "    for j in range(len(m.columns)):\n",
    "        None\n",
    "        m.iloc[i,j] = \"$\" + str(m.iloc[i,j]) + \"\\pm\" + str(s.iloc[i,j]) + \"$\"\n",
    "m =m.rename(index = {'RT': 'RT (s)','Mean fixation duration':'Mean fixation duration (s)', 'Mean fixation rate':'Mean fixation rate ($n/s$)', \n",
    "                           'Mean regressive fixation duration': '\\parbox[t][0.8cm][t]{3.4cm}{Mean regressive fixation duration (s)}',\n",
    "                           'Equal fixation duration between figures':'\\parbox[t][0.8cm][t]{3.4cm}{Equal fixation duration between figures (ratio)}',\n",
    "                           'Equal fixation duration within figure': '\\parbox[t][0.8cm][t]{3.4cm}{Equal fixation duration within figure (ratio)}',\n",
    "                           'Strategy ratio': 'Strategy ratio ($\\lessgtr 1$)', 'Mean saccade velocity': 'Mean saccade velocity ($\\degree / s$)',\n",
    "                           'Mean saccade rate': 'Mean saccade rate ($n/s$)', 'Mean pupil diameter':'Mean pupil diameter (mm)', \n",
    "                           'Pupil diameter amplitude': 'Pupil diameter amplitude (mm)', 'Mean distance to figure': 'Mean distance to figure (cm)', \n",
    "                           'Mean horizontal head movement':'\\parbox[t][0.8cm][t]{3.4cm}{Mean horizontal head movement (cm)}'})"
   ]
  },
  {
   "cell_type": "code",
   "execution_count": 111,
   "id": "b78fe477-3790-4b8d-bb77-b5287abe6377",
   "metadata": {
    "tags": []
   },
   "outputs": [],
   "source": [
    "d2 = m['2D ($M \\pm SD$)']\n",
    "d3 = m['3D ($M \\pm SD$)']\n",
    "\n",
    "dd = pd.DataFrame({'Equal':[], 'Mirrored':[], 'Structural':[]})\n",
    "for i in d2.index:\n",
    "    d2s = d2.loc[[i],:]\n",
    "    d3s = d3.loc[[i],:]\n",
    "    d2s.index = d2s.index.values + ' 2D'\n",
    "    d3s.index = d3s.index.values + ' 3D'\n",
    "    dd = pd.concat([dd, d2s], axis=0)\n",
    "    dd = pd.concat([dd, d3s], axis=0)"
   ]
  },
  {
   "cell_type": "code",
   "execution_count": 114,
   "id": "d496cfb5-99ee-479b-9210-cded941e1bc9",
   "metadata": {
    "tags": []
   },
   "outputs": [
    {
     "name": "stderr",
     "output_type": "stream",
     "text": [
      "C:\\Users\\Stark\\AppData\\Local\\Temp\\ipykernel_11392\\2360034233.py:3: FutureWarning: In future versions `DataFrame.to_latex` is expected to utilise the base implementation of `Styler.to_latex` for formatting and rendering. The arguments signature may therefore change. It is recommended instead to use `DataFrame.style.to_latex` which also contains additional functionality.\n",
      "  dd.to_latex(buf=data_path + 'difftype.txt',encoding='utf-8', escape=False)\n"
     ]
    }
   ],
   "source": [
    "data_path = project_path.rsplit('\\\\',1)[0] + \"\\\\data\\\\6_feature_dataset\\\\temp\\\\\"\n",
    "with pd.option_context(\"max_colwidth\", 1000):\n",
    "    dd.to_latex(buf=data_path + 'difftype.txt',encoding='utf-8', escape=False)\n"
   ]
  },
  {
   "cell_type": "code",
   "execution_count": 126,
   "id": "29034b0b-c975-4cf3-9c54-8ce6d884f7b8",
   "metadata": {
    "tags": []
   },
   "outputs": [],
   "source": [
    "data_path = project_path.rsplit('\\\\',1)[0] + \"\\\\data\\\\6_feature_dataset\\\\\"\n",
    "dff = pd.read_csv(data_path + '2024-03-25_final_feature_dataset.csv')\n",
    "dff = dff[~dff['stimulus'].isin([21, 24])]\n",
    "dff = dff.drop(columns=['condition', 'stimulus', 'Response', 'Equal?', 'AngularDisp', 'Number of Fixations', 'Number of Saccades',\n",
    "                       'Mean saccade duration', 'Mean head rotation', 'Mean head movement', 'Mean angle around figure'])\n",
    "dff = dff[['ID', 'dimension', 'DiffType','Correct', 'RT',\n",
    "       'Mean fixation duration','Mean fixation rate', 'Mean regressive fixation duration',\n",
    "       'Equal fixation duration between figures',\n",
    "       'Equal fixation duration within figure',\n",
    "        'Strategy ratio',\n",
    "       'Mean saccade velocity', 'Mean saccade rate','Mean pupil diameter',\n",
    "       'Pupil diameter amplitude',  'Mean distance to figure','Mean horizontal head movement']]\n",
    "dff['dimension'] = dff['dimension'].astype(str) + ['D']\n",
    "\n",
    "dff['DiffType'] = dff['DiffType'].replace({'e':'Equal','m':'Mirrored', 's':'Structural'})"
   ]
  },
  {
   "cell_type": "code",
   "execution_count": 218,
   "id": "9272ef64-8a6d-4663-92cf-4f786778147f",
   "metadata": {
    "tags": []
   },
   "outputs": [
    {
     "data": {
      "text/plain": [
       "0         \"Mirrored\"))[T.Equal]\n",
       "1    \"Mirrored\"))[T.Structural]\n",
       "Name: 1, dtype: object"
      ]
     },
     "execution_count": 218,
     "metadata": {},
     "output_type": "execute_result"
    }
   ],
   "source": [
    "x = mdf.summary().tables[1].iloc[4:-1]\n",
    "x = x.reset_index()\n",
    "x['index'].str.split(',',expand=True)[1].str.split('=',expand=True)[1]"
   ]
  },
  {
   "cell_type": "code",
   "execution_count": 294,
   "id": "24a2aeae-f999-419e-80b6-6b0538de139f",
   "metadata": {
    "tags": []
   },
   "outputs": [
    {
     "name": "stderr",
     "output_type": "stream",
     "text": [
      "C:\\Users\\Stark\\AppData\\Local\\Programs\\Python\\Python311\\Lib\\site-packages\\statsmodels\\regression\\mixed_linear_model.py:2237: ConvergenceWarning: The MLE may be on the boundary of the parameter space.\n",
      "  warnings.warn(msg, ConvergenceWarning)\n",
      "C:\\Users\\Stark\\AppData\\Local\\Programs\\Python\\Python311\\Lib\\site-packages\\statsmodels\\regression\\mixed_linear_model.py:2237: ConvergenceWarning: The MLE may be on the boundary of the parameter space.\n",
      "  warnings.warn(msg, ConvergenceWarning)\n",
      "C:\\Users\\Stark\\AppData\\Local\\Programs\\Python\\Python311\\Lib\\site-packages\\statsmodels\\regression\\mixed_linear_model.py:2237: ConvergenceWarning: The MLE may be on the boundary of the parameter space.\n",
      "  warnings.warn(msg, ConvergenceWarning)\n",
      "C:\\Users\\Stark\\AppData\\Local\\Programs\\Python\\Python311\\Lib\\site-packages\\statsmodels\\base\\model.py:604: ConvergenceWarning: Maximum Likelihood optimization failed to converge. Check mle_retvals\n",
      "  warnings.warn(\"Maximum Likelihood optimization failed to \"\n",
      "C:\\Users\\Stark\\AppData\\Local\\Programs\\Python\\Python311\\Lib\\site-packages\\statsmodels\\regression\\mixed_linear_model.py:2200: ConvergenceWarning: Retrying MixedLM optimization with lbfgs\n",
      "  warnings.warn(\n",
      "C:\\Users\\Stark\\AppData\\Local\\Programs\\Python\\Python311\\Lib\\site-packages\\statsmodels\\regression\\mixed_linear_model.py:2237: ConvergenceWarning: The MLE may be on the boundary of the parameter space.\n",
      "  warnings.warn(msg, ConvergenceWarning)\n",
      "C:\\Users\\Stark\\AppData\\Local\\Programs\\Python\\Python311\\Lib\\site-packages\\statsmodels\\regression\\mixed_linear_model.py:2237: ConvergenceWarning: The MLE may be on the boundary of the parameter space.\n",
      "  warnings.warn(msg, ConvergenceWarning)\n",
      "C:\\Users\\Stark\\AppData\\Local\\Programs\\Python\\Python311\\Lib\\site-packages\\statsmodels\\regression\\mixed_linear_model.py:2237: ConvergenceWarning: The MLE may be on the boundary of the parameter space.\n",
      "  warnings.warn(msg, ConvergenceWarning)\n",
      "C:\\Users\\Stark\\AppData\\Local\\Programs\\Python\\Python311\\Lib\\site-packages\\statsmodels\\regression\\mixed_linear_model.py:2237: ConvergenceWarning: The MLE may be on the boundary of the parameter space.\n",
      "  warnings.warn(msg, ConvergenceWarning)\n"
     ]
    }
   ],
   "source": [
    "import statsmodels.api as sm\n",
    "import statsmodels.formula.api as smf\n",
    "dfr = dff.copy()\n",
    "dfr = dfr.dropna(axis=0)\n",
    "dfr.columns = dfr.columns.str.replace(' ', '_')\n",
    "dv = dfr.columns[3:].to_list()\n",
    "mlm = pd.DataFrame({'Interaction':[], 'Estimate':[], 'Z':[], 'P':[], '95\\% CI':[]})\n",
    "for index in range(14):\n",
    "    mdf = smf.mixedlm('{} ~ C(dimension)*C(DiffType)'.format(dv[index]), dfr, groups=dfr['ID']).fit()\n",
    "    #print(mdf.summary())\n",
    "    x = mdf.summary().tables[1].iloc[4:-1]\n",
    "    \n",
    "    #mdf = smf.mixedlm('{} ~ C(dimension)*C(DiffType, Treatment(reference=\"Mirrored\"))'.format(dv[index]), dfr, groups=dfr['ID']).fit()\n",
    "    #print(mdf.summary())\n",
    "    #y = mdf.summary().tables[1].iloc[5:-1]\n",
    "    #y.index = ['3D:(Structural-Mirrored)']\n",
    "    x.index = ['3D:(Mirrored-Equal)', '3D:(Structural-Equal)']\n",
    "    #x = pd.concat([x,y])\n",
    "    x = x.rename(columns={'z':'Z', 'P>|z|':'P'})\n",
    "    x.insert(0, 'Estimate', '$' + x['Coef.'].astype(str) +'\\pm'+x['Std.Err.'].astype(str) + '$')\n",
    "    x['95\\% CI'] = '$[' + x['[0.025'].astype(str) +','+x['0.975]'].astype(str) + ']$'\n",
    "    x = x.drop(columns=['Coef.', 'Std.Err.', '[0.025', '0.975]'])\n",
    "    x.insert(0, 'Variable', [dv[index], ''])\n",
    "    x.insert(0, 'Interaction', x.index)\n",
    "    x.index = x['Variable']\n",
    "    x = x.drop(columns=['Variable'])\n",
    "    mlm = pd.concat([mlm, x])"
   ]
  },
  {
   "cell_type": "code",
   "execution_count": 295,
   "id": "48170848-7709-4d7f-8872-e631ac8efe16",
   "metadata": {
    "tags": []
   },
   "outputs": [],
   "source": [
    "ME_lst = list()\n",
    "SE_lst = list()\n",
    "\n",
    "for i in range(4, len(mlm)):\n",
    "    if mlm['Interaction'].iloc[i] == '3D:(Mirrored-Equal)':\n",
    "        ME_lst.append(float(mlm['P'].iloc[i]))\n",
    "    if mlm['Interaction'].iloc[i] == '3D:(Structural-Equal)':\n",
    "        SE_lst.append(float(mlm['P'].iloc[i]))\n",
    "        \n",
    "    \n",
    "from statsmodels.stats import multitest\n",
    "pvalsME = multitest.multipletests(np.array(ME_lst), alpha=0.05, method='bonferroni', is_sorted=False, returnsorted=False)[1]\n",
    "pvalsSE = multitest.multipletests(np.array(SE_lst), alpha=0.05, method='bonferroni', is_sorted=False, returnsorted=False)[1]\n",
    "\n",
    "idx = 0\n",
    "#mlm['Pc'] = np.nan\n",
    "for i in range(4, len(mlm)):\n",
    "    if mlm['Interaction'].iloc[i] == '3D:(Mirrored-Equal)':\n",
    "        mlm['P'].iloc[i] = pvalsME[idx]\n",
    "    if mlm['Interaction'].iloc[i] == '3D:(Structural-Equal)':\n",
    "        mlm['P'].iloc[i] = pvalsSE[idx]\n",
    "        idx+=1"
   ]
  },
  {
   "cell_type": "code",
   "execution_count": 296,
   "id": "2da0aeba-b31c-4234-b35f-ec90e8f06ca5",
   "metadata": {
    "tags": []
   },
   "outputs": [],
   "source": [
    "mlm.index = mlm.index.str.replace('_',' ')\n",
    "mlm =mlm.rename(index = {'Correct':'Percentage solved correctly', 'RT': 'RT (s)','Mean fixation duration':'Mean fixation duration (s)', 'Mean fixation rate':'Mean fixation rate ($n/s$)', \n",
    "                           'Mean regressive fixation duration': '\\parbox[t][0.8cm][t]{3.4cm}{Mean regressive fixation duration (s)}',\n",
    "                           'Equal fixation duration between figures':'\\parbox[t][0.8cm][t]{3.4cm}{Equal fixation duration between figures (ratio)}',\n",
    "                           'Equal fixation duration within figure': '\\parbox[t][0.8cm][t]{3.4cm}{Equal fixation duration within figure (ratio)}',\n",
    "                           'Strategy ratio': 'Strategy ratio ($\\lessgtr 1$)', 'Mean saccade velocity': 'Mean saccade velocity ($\\degree / s$)',\n",
    "                           'Mean saccade rate': 'Mean saccade rate ($n/s$)', 'Mean pupil diameter':'Mean pupil diameter (mm)', \n",
    "                           'Pupil diameter amplitude': 'Pupil diameter amplitude (mm)', 'Mean distance to figure': 'Mean distance to figure (cm)', \n",
    "                           'Mean horizontal head movement':'\\parbox[t][0.8cm][t]{3.4cm}{Mean horizontal head movement (cm)}'})"
   ]
  },
  {
   "cell_type": "code",
   "execution_count": 297,
   "id": "5eb2b099-19aa-4d64-b3cb-cac64c75ba53",
   "metadata": {
    "tags": []
   },
   "outputs": [
    {
     "name": "stderr",
     "output_type": "stream",
     "text": [
      "C:\\Users\\Stark\\AppData\\Local\\Temp\\ipykernel_11392\\4046064901.py:3: FutureWarning: In future versions `DataFrame.to_latex` is expected to utilise the base implementation of `Styler.to_latex` for formatting and rendering. The arguments signature may therefore change. It is recommended instead to use `DataFrame.style.to_latex` which also contains additional functionality.\n",
      "  mlm.to_latex(buf=data_path + 'interaction.txt',encoding='utf-8', escape=False)\n"
     ]
    }
   ],
   "source": [
    "data_path = project_path.rsplit('\\\\',1)[0] + \"\\\\data\\\\6_feature_dataset\\\\temp\\\\\"\n",
    "with pd.option_context(\"max_colwidth\", 1000):\n",
    "    mlm.to_latex(buf=data_path + 'interaction.txt',encoding='utf-8', escape=False)"
   ]
  }
 ],
 "metadata": {
  "kernelspec": {
   "display_name": "jupyter_venv",
   "language": "python",
   "name": "jupyter_venv"
  },
  "language_info": {
   "codemirror_mode": {
    "name": "ipython",
    "version": 3
   },
   "file_extension": ".py",
   "mimetype": "text/x-python",
   "name": "python",
   "nbconvert_exporter": "python",
   "pygments_lexer": "ipython3",
   "version": "3.11.4"
  }
 },
 "nbformat": 4,
 "nbformat_minor": 5
}
